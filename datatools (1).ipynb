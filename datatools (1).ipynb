
  {
   "cell_type": "markdown",
   "id": "148dc4ca",
   "metadata": {},
   "source": [
    "### Q: What is NumPy, and why is it widely used in Python\n",
    "**Answer:** NumPy is a Python library for numerical computing. It is widely used because it supports fast operations on arrays and matrices with less memory."
   ]
  },
  {
   "cell_type": "markdown",
   "id": "a5a2b195",
   "metadata": {},
   "source": [
    "### Practical: Create a 2D NumPy array and calculate the sum of each row"
   ]
  },
  {
   "cell_type": "code",
   "execution_count": null,
   "id": "b2a9a171",
   "metadata": {},
   "outputs": [
    {
     "name": "stdout",
     "output_type": "stream",
     "text": [
      "[[1 2 3]\n",
      " [4 5 6]\n",
      " [7 8 9]]\n",
      "Row sums: [ 6 15 24]"
     ]
    }
   ],
   "source": [
    "import numpy as np\n",
    "arr = np.array([[1,2,3],[4,5,6],[7,8,9]])\n",
    "print(arr)\n",
    "print('Row sums:', arr.sum(axis=1))"
   ]
  }
 ],
 "metadata": {},
 "nbformat": 4,
 "nbformat_minor": 5
}
