{
  "cells": [
    {
      "cell_type": "markdown",
      "id": "f463c9f5",
      "metadata": {
        "id": "f463c9f5"
      },
      "source": [
        "# Assignment – Files, Exception Handling, Logging, and Memory Management\n"
      ]
    },
    {
      "cell_type": "markdown",
      "id": "acea2981",
      "metadata": {
        "id": "acea2981"
      },
      "source": [
        "### Question 1\n",
        "What is the difference between interpreted and compiled languages?\n",
        "\n",
        "### Answer\n",
        "Compiled languages translate the entire source code into machine code before execution, resulting in faster performance. Interpreted languages translate and execute code line by line, making them slower but more flexible."
      ]
    },
    {
      "cell_type": "markdown",
      "id": "c5d88a50",
      "metadata": {
        "id": "c5d88a50"
      },
      "source": [
        "### Question 2\n",
        "What is exception handling in Python?\n",
        "\n",
        "### Answer\n",
        "Exception handling in Python is a mechanism to handle runtime errors using `try`, `except`, `else`, and `finally` blocks, preventing the program from crashing."
      ]
    },
    {
      "cell_type": "markdown",
      "id": "dedcccf9",
      "metadata": {
        "id": "dedcccf9"
      },
      "source": [
        "### Question 3\n",
        "What is the purpose of the finally block in exception handling?\n",
        "\n",
        "### Answer\n",
        "The `finally` block is used to execute cleanup code (like closing files) regardless of whether an exception occurred or not."
      ]
    },
    {
      "cell_type": "markdown",
      "id": "999619f2",
      "metadata": {
        "id": "999619f2"
      },
      "source": [
        "### Question 4\n",
        "What is logging in Python?\n",
        "\n",
        "### Answer\n",
        "Logging is the process of recording events during program execution. Python's `logging` module provides functions to log messages at different severity levels like DEBUG, INFO, WARNING, ERROR, and CRITICAL."
      ]
    },
    {
      "cell_type": "markdown",
      "id": "d3567db4",
      "metadata": {
        "id": "d3567db4"
      },
      "source": [
        "### Question 5\n",
        "What is the significance of the __del__ method in Python?\n",
        "\n",
        "### Answer\n",
        "The `__del__` method is a destructor method in Python, called when an object is about to be destroyed. It’s mainly used for cleanup activities like closing files or releasing resources."
      ]
    },
    {
      "cell_type": "markdown",
      "id": "11e8934f",
      "metadata": {
        "id": "11e8934f"
      },
      "source": [
        "### Question 6\n",
        "How can you open a file for writing in Python and write a string to it?\n",
        "\n",
        "### Answer"
      ]
    },
    {
      "cell_type": "code",
      "execution_count": 2,
      "id": "f05d6a09",
      "metadata": {
        "id": "f05d6a09",
        "outputId": "34c17d57-2b61-412c-d971-bd4b2cc8ce3b",
        "colab": {
          "base_uri": "https://localhost:8080/"
        }
      },
      "outputs": [
        {
          "output_type": "stream",
          "name": "stdout",
          "text": [
            "String written to file successfully.\n"
          ]
        }
      ],
      "source": [
        "# Open a file in write mode and write a string\n",
        "with open(\"sample.txt\", \"w\") as f:\n",
        "    f.write(\"Hello, this is a sample text!\")\n",
        "print(\"String written to file successfully.\")"
      ]
    },
    {
      "cell_type": "markdown",
      "id": "6cafea02",
      "metadata": {
        "id": "6cafea02"
      },
      "source": [
        "### Question 7\n",
        "Write a Python program to read the contents of a file and print each line.\n",
        "\n",
        "### Answer"
      ]
    },
    {
      "cell_type": "code",
      "execution_count": 3,
      "id": "2411fb9f",
      "metadata": {
        "id": "2411fb9f",
        "outputId": "3e6f7b7c-a84e-4b10-b7ba-21e74b855dbc",
        "colab": {
          "base_uri": "https://localhost:8080/"
        }
      },
      "outputs": [
        {
          "output_type": "stream",
          "name": "stdout",
          "text": [
            "Hello, this is a sample text!\n"
          ]
        }
      ],
      "source": [
        "# Read and print contents of a file line by line\n",
        "with open(\"sample.txt\", \"r\") as f:\n",
        "    for line in f:\n",
        "        print(line.strip())"
      ]
    },
    {
      "cell_type": "markdown",
      "id": "e4e27ceb",
      "metadata": {
        "id": "e4e27ceb"
      },
      "source": [
        "### Question 8\n",
        "How would you handle a case where the file doesn't exist while trying to open it for reading?\n",
        "\n",
        "### Answer"
      ]
    },
    {
      "cell_type": "code",
      "execution_count": 4,
      "id": "d3cd3b78",
      "metadata": {
        "id": "d3cd3b78",
        "outputId": "05df6d5b-e96e-431e-dd01-8d8b74ffa913",
        "colab": {
          "base_uri": "https://localhost:8080/"
        }
      },
      "outputs": [
        {
          "output_type": "stream",
          "name": "stdout",
          "text": [
            "The file does not exist!\n"
          ]
        }
      ],
      "source": [
        "try:\n",
        "    with open(\"nonexistent.txt\", \"r\") as f:\n",
        "        print(f.read())\n",
        "except FileNotFoundError:\n",
        "    print(\"The file does not exist!\")"
      ]
    },
    {
      "cell_type": "markdown",
      "id": "a9e65e35",
      "metadata": {
        "id": "a9e65e35"
      },
      "source": [
        "### Question 9\n",
        "Write a Python script that reads from one file and writes its content to another file.\n",
        "\n",
        "### Answer"
      ]
    },
    {
      "cell_type": "code",
      "execution_count": 5,
      "id": "6f25c178",
      "metadata": {
        "id": "6f25c178",
        "outputId": "8075bd51-d1e9-4459-b339-bc685ef171eb",
        "colab": {
          "base_uri": "https://localhost:8080/"
        }
      },
      "outputs": [
        {
          "output_type": "stream",
          "name": "stdout",
          "text": [
            "File copied successfully!\n"
          ]
        }
      ],
      "source": [
        "# Copy contents from one file to another\n",
        "with open(\"sample.txt\", \"r\") as src:\n",
        "    with open(\"copy_sample.txt\", \"w\") as dest:\n",
        "        dest.write(src.read())\n",
        "print(\"File copied successfully!\")"
      ]
    },
    {
      "cell_type": "markdown",
      "id": "6056f3dc",
      "metadata": {
        "id": "6056f3dc"
      },
      "source": [
        "### Question 10\n",
        "How would you catch and handle division by zero error in Python?\n",
        "\n",
        "### Answer"
      ]
    },
    {
      "cell_type": "code",
      "execution_count": 6,
      "id": "7c0027f2",
      "metadata": {
        "id": "7c0027f2",
        "outputId": "0104272f-34f7-411f-ff59-d559d2cafcc7",
        "colab": {
          "base_uri": "https://localhost:8080/"
        }
      },
      "outputs": [
        {
          "output_type": "stream",
          "name": "stdout",
          "text": [
            "Division by zero is not allowed!\n"
          ]
        }
      ],
      "source": [
        "try:\n",
        "    result = 10 / 0\n",
        "except ZeroDivisionError:\n",
        "    print(\"Division by zero is not allowed!\")"
      ]
    }
  ],
  "metadata": {
    "colab": {
      "provenance": []
    },
    "language_info": {
      "name": "python"
    },
    "kernelspec": {
      "name": "python3",
      "display_name": "Python 3"
    }
  },
  "nbformat": 4,
  "nbformat_minor": 5
}