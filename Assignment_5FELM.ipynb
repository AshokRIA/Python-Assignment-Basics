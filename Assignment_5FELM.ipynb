{
 "cells": [
  {
   "cell_type": "markdown",
   "id": "73f0f621",
   "metadata": {},
   "source": [
    "# Assignment – Files, Exception Handling, Logging, and Memory Management"
   ]
  },
  {
   "cell_type": "markdown",
   "id": "febad12c",
   "metadata": {},
   "source": [
    "### Question 1\n",
    "What is the difference between interpreted and compiled languages?\n",
    "\n",
    "### Answer\n",
    "Compiled languages translate whole programs to machine code before running (faster at runtime). Interpreted languages execute line‑by‑line via an interpreter (slower but flexible/portable)."
   ]
  },
  {
   "cell_type": "markdown",
   "id": "8d95743c",
   "metadata": {},
   "source": [
    "### Question 2\n",
    "What is exception handling in Python?\n",
    "\n",
    "### Answer\n",
    "A structured way to detect and manage runtime errors using `try`, `except`, `else`, and `finally` so programs fail gracefully."
   ]
  },
  {
   "cell_type": "markdown",
   "id": "c70d9686",
   "metadata": {},
   "source": [
    "### Question 3\n",
    "What is the purpose of the finally block in exception handling?\n",
    "\n",
    "### Answer\n",
    "`finally` runs no matter what—used for cleanup like closing files or releasing resources."
   ]
  },
  {
   "cell_type": "markdown",
   "id": "f76484cd",
   "metadata": {},
   "source": [
    "### Question 4\n",
    "What is logging in Python?\n",
    "\n",
    "### Answer\n",
    "Recording diagnostic messages from code execution to track flow, issues, and metrics over time."
   ]
  },
  {
   "cell_type": "markdown",
   "id": "09222b83",
   "metadata": {},
   "source": [
    "### Question 5\n",
    "What is the significance of the __del__ method in Python?\n",
    "\n",
    "### Answer\n",
    "`__del__` is the destructor, called when an object is about to be garbage‑collected. Use sparingly; timing isn’t guaranteed."
   ]
  },
  {
   "cell_type": "markdown",
   "id": "5c8f0157",
   "metadata": {},
   "source": [
    "### Question 6\n",
    "What is the difference between import and from ... import in Python?\n",
    "\n",
    "### Answer\n",
    "`import pkg` brings the module namespace; access via `pkg.name`. `from pkg import name` binds `name` directly into the current namespace."
   ]
  },
  {
   "cell_type": "markdown",
   "id": "9219df0a",
   "metadata": {},
   "source": [
    "### Question 7\n",
    "How can you handle multiple exceptions in Python?\n",
    "\n",
    "### Answer\n",
    "Use multiple `except` blocks or tuple catching: `except (TypeError, ValueError) as e:`."
   ]
  },
  {
   "cell_type": "markdown",
   "id": "74c15756",
   "metadata": {},
   "source": [
    "### Question 8\n",
    "What is the purpose of the with statement when handling files in Python?\n",
    "\n",
    "### Answer\n",
    "`with open(...) as f:` ensures the file is automatically closed, even if errors occur."
   ]
  },
  {
   "cell_type": "markdown",
   "id": "93c7d333",
   "metadata": {},
   "source": [
    "### Question 9\n",
    "What is the difference between multithreading and multiprocessing?\n",
    "\n",
    "### Answer\n",
    "Threads share one process memory (lightweight; good for I/O). Processes have separate memory (heavier; good for CPU‑bound tasks)."
   ]
  },
  {
   "cell_type": "markdown",
   "id": "ed42ab0e",
   "metadata": {},
   "source": [
    "### Question 10\n",
    "What are the advantages of using logging in a program?\n",
    "\n",
    "### Answer\n",
    "Persistent records, easier debugging, configurable levels/handlers/formatting, safer than scattering `print`."
   ]
  },
  {
   "cell_type": "markdown",
   "id": "479e512b",
   "metadata": {},
   "source": [
    "### Question 11\n",
    "What is memory management in Python?\n",
    "\n",
    "### Answer\n",
    "Automatic allocation/deallocation of objects, reference counting, and garbage collection for unreachable cycles."
   ]
  },
  {
   "cell_type": "markdown",
   "id": "7560c6f6",
   "metadata": {},
   "source": [
    "### Question 12\n",
    "What are the basic steps involved in exception handling in Python?\n",
    "\n",
    "### Answer\n",
    "`try` risky code → `except` handle errors → optional `else` for success path → `finally` for cleanup."
   ]
  },
  {
   "cell_type": "markdown",
   "id": "71f64891",
   "metadata": {},
   "source": [
    "### Question 13\n",
    "Why is memory management important in Python?\n",
    "\n",
    "### Answer\n",
    "Prevents leaks, controls footprint, improves performance, and avoids crashes/out‑of‑memory errors."
   ]
  },
  {
   "cell_type": "markdown",
   "id": "ee24f2f0",
   "metadata": {},
   "source": [
    "### Question 14\n",
    "What is the role of try and except in exception handling?\n",
    "\n",
    "### Answer\n",
    "`try` encloses code that might fail; `except` intercepts the specific exceptions and defines recovery behavior."
   ]
  },
  {
   "cell_type": "markdown",
   "id": "6207116e",
   "metadata": {},
   "source": [
    "### Question 15\n",
    "How does Python's garbage collection system work?\n",
    "\n",
    "### Answer\n",
    "Reference counting frees objects when count hits zero; a cyclic GC periodically finds and collects reference cycles."
   ]
  },
  {
   "cell_type": "markdown",
   "id": "3c9c7c73",
   "metadata": {},
   "source": [
    "### Question 16\n",
    "What is the purpose of the else block in exception handling?\n",
    "\n",
    "### Answer\n",
    "`else` runs only if no exception occurred—use for code that depends on successful `try`."
   ]
  },
  {
   "cell_type": "markdown",
   "id": "f8fbab57",
   "metadata": {},
   "source": [
    "### Question 17\n",
    "What are the common logging levels in Python?\n",
    "\n",
    "### Answer\n",
    "`DEBUG`, `INFO`, `WARNING`, `ERROR`, `CRITICAL`."
   ]
  },
  {
   "cell_type": "markdown",
   "id": "985537d4",
   "metadata": {},
   "source": [
    "### Question 18\n",
    "What is the difference between os.fork() and multiprocessing in Python?\n",
    "\n",
    "### Answer\n",
    "`os.fork()` (Unix only) clones the current process at the OS level. `multiprocessing` is portable, higher‑level, with Pools/Queues and Windows support."
   ]
  },
  {
   "cell_type": "markdown",
   "id": "c199e782",
   "metadata": {},
   "source": [
    "### Question 19\n",
    "What is the importance of closing a file in Python?\n",
    "\n",
    "### Answer\n",
    "Flushes buffers, releases OS handles, avoids data loss and resource leaks."
   ]
  },
  {
   "cell_type": "markdown",
   "id": "cfffbe81",
   "metadata": {},
   "source": [
    "### Question 20\n",
    "What is the difference between file.read() and file.readline() in Python?\n",
    "\n",
    "### Answer\n",
    "`read()` returns the whole remaining content (string). `readline()` returns the next line only."
   ]
  },
  {
   "cell_type": "markdown",
   "id": "b46169cd",
   "metadata": {},
   "source": [
    "### Question 21\n",
    "What is the logging module in Python used for?\n",
    "\n",
    "### Answer\n",
    "Standard API to emit, format, and route log messages to consoles/files/handlers with levels."
   ]
  },
  {
   "cell_type": "markdown",
   "id": "96a8f99a",
   "metadata": {},
   "source": [
    "### Question 22\n",
    "What is the os module in Python used for in file handling?\n",
    "\n",
    "### Answer\n",
    "Interacts with the OS: paths, environment, directory/file ops (`os.path`, `os.listdir`, `os.remove`, etc.)."
   ]
  },
  {
   "cell_type": "markdown",
   "id": "5e1f84ec",
   "metadata": {},
   "source": [
    "### Question 23\n",
    "What are the challenges associated with memory management in Python?\n",
    "\n",
    "### Answer\n",
    "Reference cycles, large temporary objects, fragmentation, leaks via global refs/caches, C‑extensions holding memory."
   ]
  },
  {
   "cell_type": "markdown",
   "id": "35c68e47",
   "metadata": {},
   "source": [
    "### Question 24\n",
    "How do you raise an exception manually in Python?\n",
    "\n",
    "### Answer\n",
    "Use `raise` with an exception type or instance, e.g., `raise ValueError(\"message\")`. "
   ]
  },
  {
   "cell_type": "markdown",
   "id": "7a33d571",
   "metadata": {},
   "source": [
    "### Question 25\n",
    "Why is it important to use multithreading in certain applications?\n",
    "\n",
    "### Answer\n",
    "To overlap I/O waits (network/disk/UI responsiveness) and improve throughput in I/O‑bound workloads."
   ]
  },
  {
   "cell_type": "markdown",
   "id": "7cf71756",
   "metadata": {},
   "source": [
    "### Question 26\n",
    "How can you open a file for writing in Python and write a string to it?\n",
    "\n",
    "### Answer"
   ]
  },
  {
   "cell_type": "code",
   "execution_count": null,
   "id": "42f8240a",
   "metadata": {},
   "outputs": [],
   "source": [
    "# Write a string to a file\n",
    "with open(\"sample.txt\", \"w\", encoding=\"utf-8\") as f:\n",
    "    f.write(\"Hello, this is a sample text!\")\n",
    "print(\"Written.\")"
   ]
  },
  {
   "cell_type": "markdown",
   "id": "cd5b730e",
   "metadata": {},
   "source": [
    "### Question 27\n",
    "Write a Python program to read the contents of a file and print each line.\n",
    "\n",
    "### Answer"
   ]
  },
  {
   "cell_type": "code",
   "execution_count": null,
   "id": "1737051e",
   "metadata": {},
   "outputs": [],
   "source": [
    "# Print each line in a file\n",
    "with open(\"sample.txt\", \"r\", encoding=\"utf-8\") as f:\n",
    "    for line in f:\n",
    "        print(line.rstrip())"
   ]
  },
  {
   "cell_type": "markdown",
   "id": "3575cac6",
   "metadata": {},
   "source": [
    "### Question 28\n",
    "How would you handle a case where the file doesn't exist while trying to open it for reading?\n",
    "\n",
    "### Answer"
   ]
  },
  {
   "cell_type": "code",
   "execution_count": null,
   "id": "66340c40",
   "metadata": {},
   "outputs": [],
   "source": [
    "try:\n",
    "    with open(\"does_not_exist.txt\", \"r\", encoding=\"utf-8\") as f:\n",
    "        print(f.read())\n",
    "except FileNotFoundError:\n",
    "    print(\"The file does not exist.\")"
   ]
  },
  {
   "cell_type": "markdown",
   "id": "459925cc",
   "metadata": {},
   "source": [
    "### Question 29\n",
    "Write a Python script that reads from one file and writes its content to another file.\n",
    "\n",
    "### Answer"
   ]
  },
  {
   "cell_type": "code",
   "execution_count": null,
   "id": "45f5f15b",
   "metadata": {},
   "outputs": [],
   "source": [
    "# Copy file contents\n",
    "src, dst = \"sample.txt\", \"copy_sample.txt\"\n",
    "with open(src, \"r\", encoding=\"utf-8\") as s, open(dst, \"w\", encoding=\"utf-8\") as d:\n",
    "    d.write(s.read())\n",
    "print(\"Copied to\", dst)"
   ]
  },
  {
   "cell_type": "markdown",
   "id": "82a41f12",
   "metadata": {},
   "source": [
    "### Question 30\n",
    "How would you catch and handle division by zero error in Python?\n",
    "\n",
    "### Answer"
   ]
  },
  {
   "cell_type": "code",
   "execution_count": null,
   "id": "46113bfd",
   "metadata": {},
   "outputs": [],
   "source": [
    "try:\n",
    "    x = 10 / 0\n",
    "except ZeroDivisionError:\n",
    "    print(\"Division by zero is not allowed.\")"
   ]
  },
  {
   "cell_type": "markdown",
   "id": "42b36ae3",
   "metadata": {},
   "source": [
    "### Question 31\n",
    "Write a Python program that logs an error message to a log file when a division by zero exception occurs\n",
    "\n",
    "### Answer"
   ]
  },
  {
   "cell_type": "code",
   "execution_count": null,
   "id": "f955d9bc",
   "metadata": {},
   "outputs": [],
   "source": [
    "import logging\n",
    "\n",
    "logging.basicConfig(filename=\"app.log\", level=logging.INFO,\n",
    "                    format=\"%(asctime)s %(levelname)s %(message)s\")\n",
    "\n",
    "try:\n",
    "    x = 1 / 0\n",
    "except ZeroDivisionError as e:\n",
    "    logging.error(\"Division failed: %s\", e)\n",
    "    print(\"Logged error to app.log\")"
   ]
  },
  {
   "cell_type": "markdown",
   "id": "275b42b1",
   "metadata": {},
   "source": [
    "### Question 32\n",
    "How do you log information at different levels (INFO, ERROR, WARNING) in Python using the logging module\n",
    "\n",
    "### Answer"
   ]
  },
  {
   "cell_type": "code",
   "execution_count": null,
   "id": "408a372b",
   "metadata": {},
   "outputs": [],
   "source": [
    "import logging\n",
    "\n",
    "logging.basicConfig(filename=\"levels.log\", level=logging.DEBUG,\n",
    "                    format=\"%(asctime)s %(levelname)s %(message)s\")\n",
    "logging.info(\"This is an info message\")\n",
    "logging.warning(\"This is a warning\")\n",
    "logging.error(\"This is an error\")\n",
    "print(\"Wrote logs to levels.log\")"
   ]
  },
  {
   "cell_type": "markdown",
   "id": "8d21f36c",
   "metadata": {},
   "source": [
    "### Question 33\n",
    "Write a program to handle a file opening error using exception handling\n",
    "\n",
    "### Answer"
   ]
  },
  {
   "cell_type": "code",
   "execution_count": null,
   "id": "a997dec3",
   "metadata": {},
   "outputs": [],
   "source": [
    "filename = \"maybe_missing.txt\"\n",
    "try:\n",
    "    with open(filename, \"r\", encoding=\"utf-8\") as f:\n",
    "        data = f.read()\n",
    "        print(len(data), \"bytes read\")\n",
    "except OSError as e:\n",
    "    print(\"File error:\", e)"
   ]
  },
  {
   "cell_type": "markdown",
   "id": "ab205a1d",
   "metadata": {},
   "source": [
    "### Question 34\n",
    "How can you read a file line by line and store its content in a list in Python\n",
    "\n",
    "### Answer"
   ]
  },
  {
   "cell_type": "code",
   "execution_count": null,
   "id": "b924fefb",
   "metadata": {},
   "outputs": [],
   "source": [
    "lines = []\n",
    "with open(\"sample.txt\", \"r\", encoding=\"utf-8\") as f:\n",
    "    for line in f:\n",
    "        lines.append(line.rstrip(\"\\n\"))\n",
    "print(lines)"
   ]
  },
  {
   "cell_type": "markdown",
   "id": "0db454e5",
   "metadata": {},
   "source": [
    "### Question 35\n",
    "How can you append data to an existing file in Python\n",
    "\n",
    "### Answer"
   ]
  },
  {
   "cell_type": "code",
   "execution_count": null,
   "id": "74d593aa",
   "metadata": {},
   "outputs": [],
   "source": [
    "with open(\"sample.txt\", \"a\", encoding=\"utf-8\") as f:\n",
    "    f.write(\"\\nAppended line.\")\n",
    "print(\"Appended.\")"
   ]
  },
  {
   "cell_type": "markdown",
   "id": "f5a441e6",
   "metadata": {},
   "source": [
    "### Question 36\n",
    "Write a Python program that uses a try-except block to handle an error when attempting to access a dictionary key that doesn't exist\n",
    "\n",
    "### Answer"
   ]
  },
  {
   "cell_type": "code",
   "execution_count": null,
   "id": "8b2adf88",
   "metadata": {},
   "outputs": [],
   "source": [
    "data = {\"name\": \"Ashok\", \"role\": \"Student\"}\n",
    "try:\n",
    "    print(data[\"age\"])\n",
    "except KeyError:\n",
    "    print(\"Key not found.\")"
   ]
  },
  {
   "cell_type": "markdown",
   "id": "e3e7e386",
   "metadata": {},
   "source": [
    "### Question 37\n",
    "Write a program that demonstrates using multiple except blocks to handle different types of exceptions\n",
    "\n",
    "### Answer"
   ]
  },
  {
   "cell_type": "code",
   "execution_count": null,
   "id": "9f68c42c",
   "metadata": {},
   "outputs": [],
   "source": [
    "def safe_divide(a, b):\n",
    "    try:\n",
    "        return a / b\n",
    "    except ZeroDivisionError:\n",
    "        return \"Cannot divide by zero\"\n",
    "    except TypeError:\n",
    "        return \"Unsupported operand types\"\n",
    "\n",
    "print(safe_divide(10, 0))\n",
    "print(safe_divide(10, \"2\"))"
   ]
  },
  {
   "cell_type": "markdown",
   "id": "9571ca84",
   "metadata": {},
   "source": [
    "### Question 38\n",
    "How would you check if a file exists before attempting to read it in Python\n",
    "\n",
    "### Answer"
   ]
  },
  {
   "cell_type": "code",
   "execution_count": null,
   "id": "410c45b1",
   "metadata": {},
   "outputs": [],
   "source": [
    "import os\n",
    "\n",
    "path = \"sample.txt\"\n",
    "if os.path.exists(path):\n",
    "    with open(path, \"r\", encoding=\"utf-8\") as f:\n",
    "        print(f.read())\n",
    "else:\n",
    "    print(\"File not found.\")"
   ]
  },
  {
   "cell_type": "markdown",
   "id": "6713c922",
   "metadata": {},
   "source": [
    "### Question 39\n",
    "Write a program that uses the logging module to log both informational and error messages\n",
    "\n",
    "### Answer"
   ]
  },
  {
   "cell_type": "code",
   "execution_count": null,
   "id": "e3c8c4e7",
   "metadata": {},
   "outputs": [],
   "source": [
    "import logging\n",
    "\n",
    "logger = logging.getLogger(\"demo\")\n",
    "logger.setLevel(logging.DEBUG)\n",
    "fh = logging.FileHandler(\"mixed.log\", encoding=\"utf-8\")\n",
    "fmt = logging.Formatter(\"%(asctime)s %(levelname)s %(message)s\")\n",
    "fh.setFormatter(fmt)\n",
    "logger.addHandler(fh)\n",
    "\n",
    "logger.info(\"Application started\")\n",
    "try:\n",
    "    1/0\n",
    "except ZeroDivisionError:\n",
    "    logger.error(\"Computation failed\", exc_info=True)\n",
    "\n",
    "print(\"Logged to mixed.log\")"
   ]
  },
  {
   "cell_type": "markdown",
   "id": "5ddd78cc",
   "metadata": {},
   "source": [
    "### Question 40\n",
    "Write a Python program that prints the content of a file and handles the case when the file is empty\n",
    "\n",
    "### Answer"
   ]
  },
  {
   "cell_type": "code",
   "execution_count": null,
   "id": "7df9fe7d",
   "metadata": {},
   "outputs": [],
   "source": [
    "import os\n",
    "\n",
    "path = \"maybe_empty.txt\"\n",
    "# Create file if missing for demo\n",
    "open(path, \"a\").close()\n",
    "\n",
    "if os.path.getsize(path) == 0:\n",
    "    print(\"The file is empty.\")\n",
    "else:\n",
    "    with open(path, \"r\", encoding=\"utf-8\") as f:\n",
    "        print(f.read())"
   ]
  },
  {
   "cell_type": "markdown",
   "id": "00a5280e",
   "metadata": {},
   "source": [
    "### Question 41\n",
    "Demonstrate how to use memory profiling to check the memory usage of a small program\n",
    "\n",
    "### Answer"
   ]
  },
  {
   "cell_type": "code",
   "execution_count": null,
   "id": "ce8602b8",
   "metadata": {},
   "outputs": [],
   "source": [
    "import tracemalloc\n",
    "\n",
    "def make_list(n):\n",
    "    return [i*i for i in range(n)]\n",
    "\n",
    "tracemalloc.start()\n",
    "_ = make_list(100000)\n",
    "current, peak = tracemalloc.get_traced_memory()\n",
    "tracemalloc.stop()\n",
    "print(\"Current:\", current, \"bytes; Peak:\", peak, \"bytes\")"
   ]
  },
  {
   "cell_type": "markdown",
   "id": "9e48c891",
   "metadata": {},
   "source": [
    "### Question 42\n",
    "Write a Python program to create and write a list of numbers to a file, one number per line\n",
    "\n",
    "### Answer"
   ]
  },
  {
   "cell_type": "code",
   "execution_count": null,
   "id": "b27a76d0",
   "metadata": {},
   "outputs": [],
   "source": [
    "nums = list(range(1, 11))\n",
    "with open(\"numbers.txt\", \"w\", encoding=\"utf-8\") as f:\n",
    "    for n in nums:\n",
    "        f.write(f\"{n}\\n\")\n",
    "print(\"numbers.txt written\")"
   ]
  },
  {
   "cell_type": "markdown",
   "id": "503cc924",
   "metadata": {},
   "source": [
    "### Question 43\n",
    "How would you implement a basic logging setup that logs to a file with rotation after 1MB\n",
    "\n",
    "### Answer"
   ]
  },
  {
   "cell_type": "code",
   "execution_count": null,
   "id": "54cc7455",
   "metadata": {},
   "outputs": [],
   "source": [
    "import logging\n",
    "from logging.handlers import RotatingFileHandler\n",
    "\n",
    "logger = logging.getLogger(\"rotator\")\n",
    "logger.setLevel(logging.INFO)\n",
    "handler = RotatingFileHandler(\"rotating.log\", maxBytes=1_000_000, backupCount=3, encoding=\"utf-8\")\n",
    "formatter = logging.Formatter(\"%(asctime)s %(levelname)s %(message)s\")\n",
    "handler.setFormatter(formatter)\n",
    "logger.addHandler(handler)\n",
    "\n",
    "for i in range(5):\n",
    "    logger.info(\"Log message %d\", i)\n",
    "print(\"Rotating logs to rotating.log\")"
   ]
  },
  {
   "cell_type": "markdown",
   "id": "63576b71",
   "metadata": {},
   "source": [
    "### Question 44\n",
    "Write a program that handles both IndexError and KeyError using a try-except block\n",
    "\n",
    "### Answer"
   ]
  },
  {
   "cell_type": "code",
   "execution_count": null,
   "id": "338b3918",
   "metadata": {},
   "outputs": [],
   "source": [
    "data = {\"a\": 1}\n",
    "lst = [10]\n",
    "try:\n",
    "    print(data[\"b\"], lst[2])\n",
    "except IndexError:\n",
    "    print(\"List index out of range\")\n",
    "except KeyError:\n",
    "    print(\"Dictionary key not found\")"
   ]
  },
  {
   "cell_type": "markdown",
   "id": "d2cf3359",
   "metadata": {},
   "source": [
    "### Question 45\n",
    "How would you open a file and read its contents using a context manager in Python\n",
    "\n",
    "### Answer"
   ]
  },
  {
   "cell_type": "code",
   "execution_count": null,
   "id": "371f0592",
   "metadata": {},
   "outputs": [],
   "source": [
    "with open(\"sample.txt\", \"r\", encoding=\"utf-8\") as f:\n",
    "    content = f.read()\n",
    "print(content)"
   ]
  },
  {
   "cell_type": "markdown",
   "id": "b007340f",
   "metadata": {},
   "source": [
    "### Question 46\n",
    "Write a Python program that reads a file and prints the number of occurrences of a specific word\n",
    "\n",
    "### Answer"
   ]
  },
  {
   "cell_type": "code",
   "execution_count": null,
   "id": "d84c091f",
   "metadata": {},
   "outputs": [],
   "source": [
    "word = \"sample\"\n",
    "count = 0\n",
    "with open(\"sample.txt\", \"r\", encoding=\"utf-8\") as f:\n",
    "    for line in f:\n",
    "        count += line.lower().split().count(word.lower())\n",
    "print(f\"Occurrences of '{word}':\", count)"
   ]
  },
  {
   "cell_type": "markdown",
   "id": "40bc1417",
   "metadata": {},
   "source": [
    "### Question 47\n",
    "How can you check if a file is empty before attempting to read its contents\n",
    "\n",
    "### Answer"
   ]
  },
  {
   "cell_type": "code",
   "execution_count": null,
   "id": "7cb597c6",
   "metadata": {},
   "outputs": [],
   "source": [
    "import os\n",
    "\n",
    "path = \"sample.txt\"\n",
    "if os.path.exists(path) and os.path.getsize(path) == 0:\n",
    "    print(\"File is empty.\")\n",
    "else:\n",
    "    with open(path, \"r\", encoding=\"utf-8\") as f:\n",
    "        print(f.read())"
   ]
  },
  {
   "cell_type": "markdown",
   "id": "0af2925d",
   "metadata": {},
   "source": [
    "### Question 48\n",
    "Write a Python program that writes to a log file when an error occurs during file handling.\n",
    "\n",
    "### Answer"
   ]
  },
  {
   "cell_type": "code",
   "execution_count": null,
   "id": "a6a33efb",
   "metadata": {},
   "outputs": [],
   "source": [
    "import logging\n",
    "\n",
    "logging.basicConfig(filename=\"file_errors.log\", level=logging.ERROR,\n",
    "                    format=\"%(asctime)s %(levelname)s %(message)s\")\n",
    "try:\n",
    "    with open(\"no_such_file.txt\", \"r\", encoding=\"utf-8\") as f:\n",
    "        data = f.read()\n",
    "except OSError as e:\n",
    "    logging.error(\"File handling error: %s\", e)\n",
    "    print(\"Logged file handling error.\")"
   ]
  }
 ],
 "metadata": {},
 "nbformat": 4,
 "nbformat_minor": 5
}
