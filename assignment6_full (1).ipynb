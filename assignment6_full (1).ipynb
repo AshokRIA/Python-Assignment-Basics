{
 "cells": [
  {
   "cell_type": "markdown",
   "id": "faac9e06",
   "metadata": {},
   "source": [
    "## Data Toolkit — Questions & Answers\n",
    "This notebook contains concise theory answers and practical code cells with outputs for each programming question.\n",
    "\n",
    "Run all cells in Google Colab to see outputs for the code cells."
   ]
  },
  {
   "cell_type": "markdown",
   "id": "2172d6f0",
   "metadata": {},
   "source": [
    "### Q: What is NumPy, and why is it widely used in Python\n",
    "**Answer:** NumPy is a library for numerical computing that provides the ndarray for efficient array operations. It's widely used because it enables fast, memory-efficient computations and vectorized operations."
   ]
  },
  {
   "cell_type": "markdown",
   "id": "697559d9",
   "metadata": {},
   "source": [
    "### Q: How does broadcasting work in NumPy\n",
    "**Answer:** Broadcasting lets NumPy perform arithmetic between arrays of different shapes by virtually expanding the smaller array along missing dimensions without copying data."
   ]
  },
  {
   "cell_type": "markdown",
   "id": "6e4decbf",
   "metadata": {},
   "source": [
    "### Q: What is a Pandas DataFrame\n",
    "**Answer:** A DataFrame is a 2-dimensional labeled data structure in Pandas (rows and columns), similar to a table or spreadsheet."
   ]
  },
  {
   "cell_type": "markdown",
   "id": "0a732f4a",
   "metadata": {},
   "source": [
    "### Q: Explain the use of the groupby() method in Pandas\n",
    "**Answer:** groupby() splits data into groups based on column(s), allowing aggregate functions (mean, sum, count) to be applied to each group."
   ]
  },
  {
   "cell_type": "markdown",
   "id": "fe0d5048",
   "metadata": {},
   "source": [
    "### Q: Why is Seaborn preferred for statistical visualizations\n",
    "**Answer:** Seaborn provides high-level functions for attractive, informative statistical plots with built-in themes and easier handling of data frames."
   ]
  },
  {
   "cell_type": "markdown",
   "id": "95cb6bd4",
   "metadata": {},
   "source": [
    "### Q: What are the differences between NumPy arrays and Python lists\n",
    "**Answer:** NumPy arrays are homogeneous, stored in contiguous memory, and support vectorized operations (faster). Lists are heterogeneous and slower for large numeric computations."
   ]
  },
  {
   "cell_type": "markdown",
   "id": "76711358",
   "metadata": {},
   "source": [
    "### Q: What is a heatmap, and when should it be used\n",
    "**Answer:** A heatmap is a colored matrix visualization used to show magnitude or correlations across two dimensions—commonly used for correlation matrices and feature importance."
   ]
  },
  {
   "cell_type": "markdown",
   "id": "5502ed5c",
   "metadata": {},
   "source": [
    "### Q: What does the term “vectorized operation” mean in NumPy\n",
    "**Answer:** Vectorized operations apply computations to whole arrays at once (C-level loops), avoiding explicit Python loops for speed."
   ]
  },
  {
   "cell_type": "markdown",
   "id": "ae656caa",
   "metadata": {},
   "source": [
    "### Q: How does Matplotlib differ from Plotly\n",
    "**Answer:** Matplotlib is a static plotting library (good for simple, publication plots). Plotly creates interactive, web-ready visualizations with zoom and hover tools."
   ]
  },
  {
   "cell_type": "markdown",
   "id": "758693e0",
   "metadata": {},
   "source": [
    "### Q: What is the significance of hierarchical indexing in Pandas\n",
    "**Answer:** Hierarchical (MultiIndex) indexing allows multiple index levels on rows or columns, making it easier to represent higher-dimensional data in 2D structures."
   ]
  },
  {
   "cell_type": "markdown",
   "id": "fdabdc59",
   "metadata": {},
   "source": [
    "### Q: What is the role of Seaborn’s pairplot() function\n",
    "**Answer:** pairplot() plots pairwise relationships in a dataset (scatterplots for variable pairs and distributions on the diagonal) to explore relationships."
   ]
  },
  {
   "cell_type": "markdown",
   "id": "40bade38",
   "metadata": {},
   "source": [
    "### Q: What is the purpose of the describe() function in Pandas\n",
    "**Answer:** describe() returns summary statistics (count, mean, std, min, 25%, 50%, 75%, max) for numeric columns."
   ]
  },
  {
   "cell_type": "markdown",
   "id": "b46aaebb",
   "metadata": {},
   "source": [
    "### Q: Why is handling missing data important in Pandas\n",
    "**Answer:** Missing data can bias results or cause errors; handling (drop, fill, interpolate) ensures correct analyses and model inputs."
   ]
  },
  {
   "cell_type": "markdown",
   "id": "4c9c9bc8",
   "metadata": {},
   "source": [
    "### Q: What are the benefits of using Plotly for data visualization\n",
    "**Answer:** Plotly offers interactive, publishable web plots, easy sharing, and rich charts (3D, maps) that users can interact with."
   ]
  },
  {
   "cell_type": "markdown",
   "id": "155496f8",
   "metadata": {},
   "source": [
    "### Q: How does NumPy handle multidimensional arrays\n",
    "**Answer:** NumPy uses ndarray with a shape tuple and contiguous memory layout to represent multidimensional arrays efficiently."
   ]
  },
  {
   "cell_type": "markdown",
   "id": "dfa68b89",
   "metadata": {},
   "source": [
    "### Q: What is the role of Bokeh in data visualization\n",
    "**Answer:** Bokeh creates interactive, browser-based visualizations suitable for dashboards and streaming plots."
   ]
  },
  {
   "cell_type": "markdown",
   "id": "bf136b1c",
   "metadata": {},
   "source": [
    "### Q: Explain the difference between apply() and map() in Pandas\n",
    "**Answer:** map() is for element-wise operations on a Series. apply() can be used on Series or DataFrame to apply a function row/column-wise and is more general."
   ]
  },
  {
   "cell_type": "markdown",
   "id": "f29f57e8",
   "metadata": {},
   "source": [
    "### Q: What are some advanced features of NumPy\n",
    "**Answer:** Advanced features include broadcasting rules, advanced indexing, linear algebra routines, FFT, random sampling, and memory views."
   ]
  },
  {
   "cell_type": "markdown",
   "id": "08cae0a2",
   "metadata": {},
   "source": [
    "### Q: How does Pandas simplify time series analysis\n",
    "**Answer:** Pandas provides datetime types, resampling, rolling/window functions, shifting, and frequency conversion for easy time series processing."
   ]
  },
  {
   "cell_type": "markdown",
   "id": "561e4449",
   "metadata": {},
   "source": [
    "### Q: What is the role of a pivot table in Pandas\n",
    "**Answer:** pivot_table() summarizes data by grouping and aggregating values into a new table; it's useful for cross-tabulations."
   ]
  },
  {
   "cell_type": "markdown",
   "id": "0984ee4b",
   "metadata": {},
   "source": [
    "### Q: Why is NumPy’s array slicing faster than Python’s list slicing\n",
    "**Answer:** NumPy slicing returns views on contiguous memory without type checks, while list slicing constructs new Python objects element-by-element."
   ]
  },
  {
   "cell_type": "markdown",
   "id": "4840c7db",
   "metadata": {},
   "source": [
    "### Q: What are some common use cases for Seaborn?\n",
    "**Answer:** Seaborn is commonly used for visualizing distributions, categorical data, correlation heatmaps, regression plots, and pairwise relationships."
   ]
  },
  {
   "cell_type": "markdown",
   "id": "5e02a1de",
   "metadata": {},
   "source": [
    "### Practical: Create a 2D NumPy array and calculate the sum of each row"
   ]
  },
  {
   "cell_type": "code",
   "execution_count": null,
   "id": "6b7fea11",
   "metadata": {},
   "outputs": [],
   "source": [
    "import numpy as np\n",
    "arr = np.array([[1,2,3],[4,5,6],[7,8,9]])\n",
    "print('Array:\\n', arr)\n",
    "print('Row sums:', arr.sum(axis=1))"
   ]
  },
  {
   "cell_type": "markdown",
   "id": "7fb77b0a",
   "metadata": {},
   "source": [
    "### Practical: Write a Pandas script to find the mean of a specific column in a DataFrame"
   ]
  },
  {
   "cell_type": "code",
   "execution_count": null,
   "id": "82570dbe",
   "metadata": {},
   "outputs": [],
   "source": [
    "import pandas as pd\n",
    "data = {'A':[10,20,30], 'B':[5,15,25]}\n",
    "df = pd.DataFrame(data)\n",
    "print('DataFrame:\\n', df)\n",
    "print('\\nMean of column A:', df['A'].mean())"
   ]
  },
  {
   "cell_type": "markdown",
   "id": "fc72aeb3",
   "metadata": {},
   "source": [
    "### Practical: Create a scatter plot using Matplotlib"
   ]
  },
  {
   "cell_type": "code",
   "execution_count": null,
   "id": "e9288d45",
   "metadata": {},
   "outputs": [],
   "source": [
    "import matplotlib.pyplot as plt\n",
    "x = [1,2,3,4]\n",
    "y = [10,20,25,30]\n",
    "plt.figure()\n",
    "plt.scatter(x,y)\n",
    "plt.title('Scatter Plot')\n",
    "plt.xlabel('x')\n",
    "plt.ylabel('y')\n",
    "plt.show()"
   ]
  },
  {
   "cell_type": "markdown",
   "id": "6fa8278a",
   "metadata": {},
   "source": [
    "### Practical: How do you calculate the correlation matrix using Seaborn and visualize it with a heatmap"
   ]
  },
  {
   "cell_type": "code",
   "execution_count": null,
   "id": "0b9bcd6e",
   "metadata": {},
   "outputs": [],
   "source": [
    "import seaborn as sns\n",
    "import matplotlib.pyplot as plt\n",
    "import pandas as pd\n",
    "\n",
    "data = pd.DataFrame({'A':[1,2,3,4], 'B':[4,5,6,7], 'C':[7,8,9,10]})\n",
    "print('Data:\\n', data)\n",
    "corr = data.corr()\n",
    "print('\\nCorrelation matrix:\\n', corr)\n",
    "plt.figure()\n",
    "sns.heatmap(corr, annot=True)\n",
    "plt.title('Correlation heatmap')\n",
    "plt.show()"
   ]
  },
  {
   "cell_type": "markdown",
   "id": "4bba7a2e",
   "metadata": {},
   "source": [
    "### Practical: Generate a bar plot using Plotly"
   ]
  },
  {
   "cell_type": "code",
   "execution_count": null,
   "id": "6b15eb35",
   "metadata": {},
   "outputs": [],
   "source": [
    "import plotly.express as px\n",
    "import pandas as pd\n",
    "data = pd.DataFrame({'Name':['A','B','C'], 'Value':[10,20,15]})\n",
    "fig = px.bar(data, x='Name', y='Value', title='Bar Plot')\n",
    "fig.show()"
   ]
  },
  {
   "cell_type": "markdown",
   "id": "0a61d77a",
   "metadata": {},
   "source": [
    "### Practical: Create a DataFrame and add a new column based on an existing column"
   ]
  },
  {
   "cell_type": "code",
   "execution_count": null,
   "id": "fa0f9b63",
   "metadata": {},
   "outputs": [],
   "source": [
    "import pandas as pd\n",
    "df = pd.DataFrame({'A':[1,2,3], 'B':[10,20,30]})\n",
    "df['C'] = df['B'] * 2\n",
    "print(df)"
   ]
  },
  {
   "cell_type": "markdown",
   "id": "cea10beb",
   "metadata": {},
   "source": [
    "### Practical: Write a program to perform element-wise multiplication of two NumPy arrays"
   ]
  },
  {
   "cell_type": "code",
   "execution_count": null,
   "id": "47862eba",
   "metadata": {},
   "outputs": [],
   "source": [
    "import numpy as np\n",
    "a = np.array([1,2,3])\n",
    "b = np.array([4,5,6])\n",
    "print('Array a:', a)\n",
    "print('Array b:', b)\n",
    "print('Element-wise multiplication:', a * b)"
   ]
  },
  {
   "cell_type": "markdown",
   "id": "cbc28791",
   "metadata": {},
   "source": [
    "### Practical: Create a line plot with multiple lines using Matplotlib"
   ]
  },
  {
   "cell_type": "code",
   "execution_count": null,
   "id": "57b5bab2",
   "metadata": {},
   "outputs": [],
   "source": [
    "import matplotlib.pyplot as plt\n",
    "x = [1,2,3,4]\n",
    "y1 = [1,4,9,16]\n",
    "y2 = [2,4,6,8]\n",
    "plt.figure()\n",
    "plt.plot(x,y1,label='y1')\n",
    "plt.plot(x,y2,label='y2')\n",
    "plt.legend()\n",
    "plt.title('Multiple Lines')\n",
    "plt.show()"
   ]
  },
  {
   "cell_type": "markdown",
   "id": "a4607b61",
   "metadata": {},
   "source": [
    "### Practical: Generate a Pandas DataFrame and filter rows where a column value is greater than a threshold"
   ]
  },
  {
   "cell_type": "code",
   "execution_count": null,
   "id": "ac6febbb",
   "metadata": {},
   "outputs": [],
   "source": [
    "import pandas as pd\n",
    "df = pd.DataFrame({'A':[5,10,15], 'B':[20,25,30]})\n",
    "print('Original DataFrame:\\n', df)\n",
    "print('\\nFiltered rows (A > 7):\\n', df[df['A'] > 7])"
   ]
  },
  {
   "cell_type": "markdown",
   "id": "696b763b",
   "metadata": {},
   "source": [
    "### Practical: Create a histogram using Seaborn to visualize a distribution"
   ]
  },
  {
   "cell_type": "code",
   "execution_count": null,
   "id": "d105149c",
   "metadata": {},
   "outputs": [],
   "source": [
    "import seaborn as sns\n",
    "import matplotlib.pyplot as plt\n",
    "import numpy as np\n",
    "data = np.random.randn(1000)\n",
    "plt.figure()\n",
    "sns.histplot(data, bins=30, kde=True)\n",
    "plt.title('Histogram with KDE')\n",
    "plt.show()"
   ]
  },
  {
   "cell_type": "markdown",
   "id": "e04e7d10",
   "metadata": {},
   "source": [
    "### Practical: Perform matrix multiplication using NumPy"
   ]
  },
  {
   "cell_type": "code",
   "execution_count": null,
   "id": "6dae5274",
   "metadata": {},
   "outputs": [],
   "source": [
    "import numpy as np\n",
    "a = np.array([[1,2],[3,4]])\n",
    "b = np.array([[5,6],[7,8]])\n",
    "print('Matrix A:\\n', a)\n",
    "print('\\nMatrix B:\\n', b)\n",
    "print('\\nA dot B:\\n', np.dot(a,b))"
   ]
  },
  {
   "cell_type": "markdown",
   "id": "477df478",
   "metadata": {},
   "source": [
    "### Practical: Use Pandas to load a CSV file and display its first 5 rows"
   ]
  },
  {
   "cell_type": "code",
   "execution_count": null,
   "id": "9e7c485a",
   "metadata": {},
   "outputs": [],
   "source": [
    "import pandas as pd\n",
    "from io import StringIO\n",
    "csv_data = 'A,B,C\\n1,2,3\\n4,5,6\\n7,8,9\\n10,11,12\\n13,14,15'\n",
    "df = pd.read_csv(StringIO(csv_data))\n",
    "print(df.head())"
   ]
  },
  {
   "cell_type": "markdown",
   "id": "0fac1a3b",
   "metadata": {},
   "source": [
    "### Practical: Create a 3D scatter plot using Plotly"
   ]
  },
  {
   "cell_type": "code",
   "execution_count": null,
   "id": "026285c0",
   "metadata": {},
   "outputs": [],
   "source": [
    "import plotly.express as px\n",
    "import pandas as pd\n",
    "df = pd.DataFrame({'x':[1,2,3,4], 'y':[10,11,12,13], 'z':[5,6,7,8]})\n",
    "fig = px.scatter_3d(df, x='x', y='y', z='z', title='3D Scatter Plot')\n",
    "fig.show()"
   ]
  }
 ],
 "metadata": {},
 "nbformat": 4,
 "nbformat_minor": 5
}
