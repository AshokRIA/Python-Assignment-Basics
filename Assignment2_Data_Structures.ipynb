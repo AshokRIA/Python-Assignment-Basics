{
  "cells": [
    {
      "cell_type": "markdown",
      "metadata": {
        "id": "view-in-github",
        "colab_type": "text"
      },
      "source": [
        "<a href=\"https://colab.research.google.com/github/AshokRIA/Python-Assignment-Basics/blob/main/Assignment2_Data_Structures.ipynb\" target=\"_parent\"><img src=\"https://colab.research.google.com/assets/colab-badge.svg\" alt=\"Open In Colab\"/></a>"
      ]
    },
    {
      "cell_type": "markdown",
      "id": "5c591748",
      "metadata": {
        "id": "5c591748"
      },
      "source": [
        "### Question 1: What are data structures, and why are they important?\n",
        "\n",
        "Data structures are ways of organizing and storing data in a computer so it can be used efficiently.\n",
        "\n",
        "They are important because they help in:\n",
        "- Efficient data storage and retrieval  \n",
        "- Optimizing memory usage  \n",
        "- Improving performance of algorithms  \n",
        "Examples: Lists, Tuples, Sets, Dictionaries."
      ]
    },
    {
      "cell_type": "markdown",
      "id": "a8234cd1",
      "metadata": {
        "id": "a8234cd1"
      },
      "source": [
        "### Question 2: Explain the difference between mutable and immutable data types with examples\n",
        "\n",
        "- **Mutable**: Can be changed after creation. Example: `list`, `dict`, `set`.\n",
        "```python\n",
        "my_list = [1,2,3]\n",
        "my_list.append(4)\n",
        "```\n",
        "- **Immutable**: Cannot be changed after creation. Example: `tuple`, `string`.\n",
        "```python\n",
        "my_str = 'hello'\n",
        "# my_str[0] = 'H' ❌ not allowed\n",
        "```"
      ]
    },
    {
      "cell_type": "markdown",
      "id": "a25c7fed",
      "metadata": {
        "id": "a25c7fed"
      },
      "source": [
        "### Question 3: What are the main differences between lists and tuples in Python?\n",
        "\n",
        "- Lists are mutable, tuples are immutable.  \n",
        "- Lists use square brackets `[]`, tuples use parentheses `()`.  \n",
        "- Lists have higher memory usage, tuples are faster in iteration.  \n",
        "- Tuples ensure data integrity."
      ]
    },
    {
      "cell_type": "markdown",
      "id": "91db3b15",
      "metadata": {
        "id": "91db3b15"
      },
      "source": [
        "### Question 4: Describe how dictionaries store data\n",
        "\n",
        "Dictionaries store data as **key-value pairs** using a hash table internally.  \n",
        "Keys must be unique and immutable, values can be anything.  \n",
        "Example: `{\"name\": \"ash\", \"age\": 35}`"
      ]
    },
    {
      "cell_type": "markdown",
      "id": "05c9ceaf",
      "metadata": {
        "id": "05c9ceaf"
      },
      "source": [
        "### Question 5: Why might you use a set instead of a list in Python?\n",
        "\n",
        "- To avoid duplicate elements automatically.  \n",
        "- To perform mathematical operations like union, intersection, difference.  \n",
        "- Faster membership checking (`in`)."
      ]
    },
    {
      "cell_type": "markdown",
      "id": "c33b7582",
      "metadata": {
        "id": "c33b7582"
      },
      "source": [
        "### Question 6: What is a string in Python, and how is it different from a list?\n",
        "\n",
        "- String: Sequence of characters (immutable).  \n",
        "- List: Sequence of elements (mutable, can store multiple data types)."
      ]
    },
    {
      "cell_type": "markdown",
      "id": "f0a495aa",
      "metadata": {
        "id": "f0a495aa"
      },
      "source": [
        "### Question 7: How do tuples ensure data integrity in Python?\n",
        "\n",
        "Since tuples are **immutable**, once created their values cannot be changed.  \n",
        "This ensures the data remains constant and reliable."
      ]
    },
    {
      "cell_type": "markdown",
      "id": "a19cc8b0",
      "metadata": {
        "id": "a19cc8b0"
      },
      "source": [
        "### Question 8: What is a hash table, and how does it relate to dictionaries in Python?\n",
        "\n",
        "A hash table is a data structure that maps keys to values using a hash function.  \n",
        "Dictionaries in Python are implemented using hash tables, making lookups, insertions, and deletions fast (average O(1) time)."
      ]
    },
    {
      "cell_type": "markdown",
      "id": "d0c46d17",
      "metadata": {
        "id": "d0c46d17"
      },
      "source": [
        "### Question 9: Can lists contain different data types in Python?\n",
        "\n",
        "Yes, a list can store multiple data types at once.  \n",
        "Example: `[1, 'hello', 3.5, True]`"
      ]
    },
    {
      "cell_type": "markdown",
      "id": "89f9dd5f",
      "metadata": {
        "id": "89f9dd5f"
      },
      "source": [
        "### Question 10: Explain why strings are immutable in Python\n",
        "\n",
        "- Strings are immutable for memory efficiency and security.  \n",
        "- Prevents accidental modification.  \n",
        "- Allows string objects to be reused (string interning)."
      ]
    },
    {
      "cell_type": "markdown",
      "id": "f6b33887",
      "metadata": {
        "id": "f6b33887"
      },
      "source": [
        "### Question 11: What advantages do dictionaries offer over lists for certain tasks?\n",
        "\n",
        "- Fast lookups by key (O(1) time).  \n",
        "- Easier to represent real-world mappings (like name → age).  \n",
        "- Keys ensure uniqueness."
      ]
    },
    {
      "cell_type": "markdown",
      "id": "b3bfa786",
      "metadata": {
        "id": "b3bfa786"
      },
      "source": [
        "### Question 12: Describe a scenario where using a tuple would be preferable over a list\n",
        "\n",
        "When storing fixed data that should not change, e.g., (latitude, longitude), or days of the week."
      ]
    },
    {
      "cell_type": "markdown",
      "id": "ca766644",
      "metadata": {
        "id": "ca766644"
      },
      "source": [
        "### Question 13: How do sets handle duplicate values in Python?\n",
        "\n",
        "Sets automatically remove duplicates.  \n",
        "Example: `{1,2,2,3} → {1,2,3}`"
      ]
    },
    {
      "cell_type": "markdown",
      "id": "73198a96",
      "metadata": {
        "id": "73198a96"
      },
      "source": [
        "### Question 14: How does the “in” keyword work differently for lists and dictionaries?\n",
        "\n",
        "- For lists: checks if a value exists.  \n",
        "- For dictionaries: checks if a key exists."
      ]
    },
    {
      "cell_type": "markdown",
      "id": "4e94be1b",
      "metadata": {
        "id": "4e94be1b"
      },
      "source": [
        "### Question 15: Can you modify the elements of a tuple? Explain why or why not\n",
        "\n",
        "No, tuples are immutable. Once created, their values cannot be changed."
      ]
    },
    {
      "cell_type": "markdown",
      "id": "fa223b99",
      "metadata": {
        "id": "fa223b99"
      },
      "source": [
        "### Question 16: What is a nested dictionary, and give an example of its use case\n",
        "\n",
        "A dictionary inside another dictionary.  \n",
        "Example:  \n",
        "```python\n",
        "students = {\n",
        "  'John': {'age': 20, 'city': 'NY'},\n",
        "  'Alice': {'age': 22, 'city': 'Paris'}\n",
        "}\n",
        "```"
      ]
    },
    {
      "cell_type": "markdown",
      "id": "c5475d8c",
      "metadata": {
        "id": "c5475d8c"
      },
      "source": [
        "### Question 17: Describe the time complexity of accessing elements in a dictionary\n",
        "\n",
        "Average case: **O(1)** (constant time) using hash table.  \n",
        "Worst case: **O(n)** (when hash collisions occur)."
      ]
    },
    {
      "cell_type": "markdown",
      "id": "1820e2fd",
      "metadata": {
        "id": "1820e2fd"
      },
      "source": [
        "### Question 18: In what situations are lists preferred over dictionaries?\n",
        "\n",
        "- When order matters.  \n",
        "- When data does not require key-value mapping.  \n",
        "- When duplicates are allowed."
      ]
    },
    {
      "cell_type": "markdown",
      "id": "04284fbb",
      "metadata": {
        "id": "04284fbb"
      },
      "source": [
        "### Question 19: Why are dictionaries considered unordered, and how does that affect data retrieval\n",
        "\n",
        "Dictionaries are unordered (before Python 3.7) because they use hash tables.  \n",
        "In modern Python 3.7+, they preserve insertion order but retrieval is still based on keys, not index."
      ]
    },
    {
      "cell_type": "markdown",
      "id": "8963d945",
      "metadata": {
        "id": "8963d945"
      },
      "source": [
        "### Question 20: Explain the difference between a list and a dictionary in terms of data retrieval\n",
        "\n",
        "- List: Accessed using index (e.g., `my_list[2]`).  \n",
        "- Dictionary: Accessed using key (e.g., `my_dict['name']`)."
      ]
    },
    {
      "cell_type": "code",
      "execution_count": 34,
      "id": "088eb359",
      "metadata": {
        "colab": {
          "base_uri": "https://localhost:8080/"
        },
        "id": "088eb359",
        "outputId": "d330e3ac-d9b8-49aa-f6c7-c97f01f7bd77"
      },
      "outputs": [
        {
          "output_type": "stream",
          "name": "stdout",
          "text": [
            "Ashok Kumar\n"
          ]
        }
      ],
      "source": [
        "# Practical Q1\n",
        "name = \"Ashok Kumar\"\n",
        "print(name)"
      ]
    },
    {
      "cell_type": "code",
      "execution_count": 33,
      "id": "3db86b9d",
      "metadata": {
        "colab": {
          "base_uri": "https://localhost:8080/"
        },
        "id": "3db86b9d",
        "outputId": "4effe372-8a52-4153-96ab-b4b07dcea932"
      },
      "outputs": [
        {
          "output_type": "stream",
          "name": "stdout",
          "text": [
            "11\n"
          ]
        }
      ],
      "source": [
        "# Practical Q2\n",
        "s = \"Hello World\"\n",
        "print(len(s))"
      ]
    },
    {
      "cell_type": "code",
      "execution_count": 32,
      "id": "d619cfde",
      "metadata": {
        "colab": {
          "base_uri": "https://localhost:8080/"
        },
        "id": "d619cfde",
        "outputId": "b415500c-53a9-4be7-cfb2-352ea0e4d8de"
      },
      "outputs": [
        {
          "output_type": "stream",
          "name": "stdout",
          "text": [
            "Pyt\n"
          ]
        }
      ],
      "source": [
        "# Practical Q3\n",
        "s = \"Python Programming\"\n",
        "print(s[:3])"
      ]
    },
    {
      "cell_type": "code",
      "execution_count": 31,
      "id": "92cdcd31",
      "metadata": {
        "colab": {
          "base_uri": "https://localhost:8080/"
        },
        "id": "92cdcd31",
        "outputId": "9206328a-e694-43e8-b50e-6a1e26f43455"
      },
      "outputs": [
        {
          "output_type": "stream",
          "name": "stdout",
          "text": [
            "HELLO\n"
          ]
        }
      ],
      "source": [
        "# Practical Q4\n",
        "s = \"hello\"\n",
        "print(s.upper())"
      ]
    },
    {
      "cell_type": "code",
      "execution_count": 30,
      "id": "b8af0f6a",
      "metadata": {
        "colab": {
          "base_uri": "https://localhost:8080/"
        },
        "id": "b8af0f6a",
        "outputId": "b92bf17f-a605-49af-d819-44062afbb83c"
      },
      "outputs": [
        {
          "output_type": "stream",
          "name": "stdout",
          "text": [
            "I like orange\n"
          ]
        }
      ],
      "source": [
        "# Practical Q5\n",
        "s = \"I like apple\"\n",
        "print(s.replace(\"apple\",\"orange\"))"
      ]
    },
    {
      "cell_type": "code",
      "execution_count": 29,
      "id": "33fb5f73",
      "metadata": {
        "colab": {
          "base_uri": "https://localhost:8080/"
        },
        "id": "33fb5f73",
        "outputId": "6811b668-8aa9-40f0-853e-c0288f4df817"
      },
      "outputs": [
        {
          "output_type": "stream",
          "name": "stdout",
          "text": [
            "[1, 2, 3, 4, 5]\n"
          ]
        }
      ],
      "source": [
        "# Practical Q6\n",
        "lst = [1,2,3,4,5]\n",
        "print(lst)"
      ]
    },
    {
      "cell_type": "code",
      "execution_count": 28,
      "id": "79907a22",
      "metadata": {
        "colab": {
          "base_uri": "https://localhost:8080/"
        },
        "id": "79907a22",
        "outputId": "f2171da6-85e6-41ab-a5b5-5219ee92b73b"
      },
      "outputs": [
        {
          "output_type": "stream",
          "name": "stdout",
          "text": [
            "[1, 2, 3, 4, 10]\n"
          ]
        }
      ],
      "source": [
        "# Practical Q7\n",
        "lst = [1,2,3,4]\n",
        "lst.append(10)\n",
        "print(lst)"
      ]
    },
    {
      "cell_type": "code",
      "execution_count": 27,
      "id": "bf557de9",
      "metadata": {
        "colab": {
          "base_uri": "https://localhost:8080/"
        },
        "id": "bf557de9",
        "outputId": "32e5795d-0029-44e6-dcd7-78f97f43582c"
      },
      "outputs": [
        {
          "output_type": "stream",
          "name": "stdout",
          "text": [
            "[1, 2, 4, 5]\n"
          ]
        }
      ],
      "source": [
        "# Practical Q8\n",
        "lst = [1,2,3,4,5]\n",
        "lst.remove(3)\n",
        "print(lst)"
      ]
    },
    {
      "cell_type": "code",
      "execution_count": 26,
      "id": "b2eb5546",
      "metadata": {
        "colab": {
          "base_uri": "https://localhost:8080/"
        },
        "id": "b2eb5546",
        "outputId": "234176db-c4d4-4e2f-98ec-e104daa5574d"
      },
      "outputs": [
        {
          "output_type": "stream",
          "name": "stdout",
          "text": [
            "b\n"
          ]
        }
      ],
      "source": [
        "# Practical Q9\n",
        "lst = ['a','b','c','d']\n",
        "print(lst[1])"
      ]
    },
    {
      "cell_type": "code",
      "execution_count": 25,
      "id": "24f7de93",
      "metadata": {
        "colab": {
          "base_uri": "https://localhost:8080/"
        },
        "id": "24f7de93",
        "outputId": "90d0ff3d-d09e-4e69-88a8-e6ae277678b0"
      },
      "outputs": [
        {
          "output_type": "stream",
          "name": "stdout",
          "text": [
            "[50, 40, 30, 20, 10]\n"
          ]
        }
      ],
      "source": [
        "# Practical Q10\n",
        "lst = [10,20,30,40,50]\n",
        "lst.reverse()\n",
        "print(lst)"
      ]
    },
    {
      "cell_type": "code",
      "execution_count": 24,
      "id": "57edf2a3",
      "metadata": {
        "colab": {
          "base_uri": "https://localhost:8080/"
        },
        "id": "57edf2a3",
        "outputId": "2bd87838-bfbf-4229-ee19-747b18d8ad67"
      },
      "outputs": [
        {
          "output_type": "stream",
          "name": "stdout",
          "text": [
            "(100, 200, 300)\n"
          ]
        }
      ],
      "source": [
        "# Practical Q11\n",
        "t = (100,200,300)\n",
        "print(t)"
      ]
    },
    {
      "cell_type": "code",
      "execution_count": 23,
      "id": "f5a12d15",
      "metadata": {
        "colab": {
          "base_uri": "https://localhost:8080/"
        },
        "id": "f5a12d15",
        "outputId": "9aa266a5-8ddd-4eb9-caa3-5e2f8ca68599"
      },
      "outputs": [
        {
          "output_type": "stream",
          "name": "stdout",
          "text": [
            "blue\n"
          ]
        }
      ],
      "source": [
        "# Practical Q12\n",
        "t = ('red','green','blue','yellow')\n",
        "print(t[-2])"
      ]
    },
    {
      "cell_type": "code",
      "execution_count": 22,
      "id": "a8dd0d47",
      "metadata": {
        "colab": {
          "base_uri": "https://localhost:8080/"
        },
        "id": "a8dd0d47",
        "outputId": "d8b0751f-b453-4098-f330-64986bf1536b"
      },
      "outputs": [
        {
          "output_type": "stream",
          "name": "stdout",
          "text": [
            "5\n"
          ]
        }
      ],
      "source": [
        "# Practical Q13\n",
        "t = (10,20,5,15)\n",
        "print(min(t))"
      ]
    },
    {
      "cell_type": "code",
      "execution_count": 21,
      "id": "15794743",
      "metadata": {
        "colab": {
          "base_uri": "https://localhost:8080/"
        },
        "id": "15794743",
        "outputId": "4f87190f-faa3-4180-ba36-be52a4dbcf3a"
      },
      "outputs": [
        {
          "output_type": "stream",
          "name": "stdout",
          "text": [
            "1\n"
          ]
        }
      ],
      "source": [
        "# Practical Q14\n",
        "t = ('dog','cat','rabbit')\n",
        "print(t.index('cat'))"
      ]
    },
    {
      "cell_type": "code",
      "execution_count": 20,
      "id": "6ff81510",
      "metadata": {
        "colab": {
          "base_uri": "https://localhost:8080/"
        },
        "id": "6ff81510",
        "outputId": "a72c63d8-662a-4bec-cbee-a4f90890b8c8"
      },
      "outputs": [
        {
          "output_type": "stream",
          "name": "stdout",
          "text": [
            "False\n"
          ]
        }
      ],
      "source": [
        "# Practical Q15\n",
        "fruits = (\"apple\",\"banana\",\"mango\")\n",
        "print(\"kiwi\" in fruits)"
      ]
    },
    {
      "cell_type": "code",
      "execution_count": 19,
      "id": "790ab5d3",
      "metadata": {
        "colab": {
          "base_uri": "https://localhost:8080/"
        },
        "id": "790ab5d3",
        "outputId": "3e8c4288-cef4-4bfe-d42f-ca363b74a272"
      },
      "outputs": [
        {
          "output_type": "stream",
          "name": "stdout",
          "text": [
            "{'c', 'b', 'a'}\n"
          ]
        }
      ],
      "source": [
        "# Practical Q16\n",
        "s = {'a','b','c'}\n",
        "print(s)"
      ]
    },
    {
      "cell_type": "code",
      "execution_count": 18,
      "id": "446ff1d5",
      "metadata": {
        "colab": {
          "base_uri": "https://localhost:8080/"
        },
        "id": "446ff1d5",
        "outputId": "609bb4ff-1cb1-4bdc-dc23-64f58ff0313d"
      },
      "outputs": [
        {
          "output_type": "stream",
          "name": "stdout",
          "text": [
            "set()\n"
          ]
        }
      ],
      "source": [
        "# Practical Q17\n",
        "s = {1,2,3,4,5}\n",
        "s.clear()\n",
        "print(s)"
      ]
    },
    {
      "cell_type": "code",
      "execution_count": 17,
      "id": "f6288623",
      "metadata": {
        "colab": {
          "base_uri": "https://localhost:8080/"
        },
        "id": "f6288623",
        "outputId": "cf7ea1a8-6ed5-4b73-fe0c-1ccd7a7367ed"
      },
      "outputs": [
        {
          "output_type": "stream",
          "name": "stdout",
          "text": [
            "{1, 2, 3}\n"
          ]
        }
      ],
      "source": [
        "# Practical Q18\n",
        "s = {1,2,3,4}\n",
        "s.remove(4)\n",
        "print(s)"
      ]
    },
    {
      "cell_type": "code",
      "execution_count": 14,
      "id": "362fc452",
      "metadata": {
        "colab": {
          "base_uri": "https://localhost:8080/"
        },
        "id": "362fc452",
        "outputId": "c4df75a6-2f35-4a2b-bea8-cb460c0129a2"
      },
      "outputs": [
        {
          "output_type": "stream",
          "name": "stdout",
          "text": [
            "{1, 2, 3, 4, 5}\n"
          ]
        }
      ],
      "source": [
        "# Practical Q19\n",
        "s1={1,2,3}\n",
        "s2={3,4,5}\n",
        "print(s1.union(s2))"
      ]
    },
    {
      "cell_type": "code",
      "execution_count": 13,
      "id": "f27c1c15",
      "metadata": {
        "colab": {
          "base_uri": "https://localhost:8080/"
        },
        "id": "f27c1c15",
        "outputId": "bf596fb4-4956-40c5-bde6-a71c43d41a96"
      },
      "outputs": [
        {
          "output_type": "stream",
          "name": "stdout",
          "text": [
            "{2, 3}\n"
          ]
        }
      ],
      "source": [
        "# Practical Q20\n",
        "s1={1,2,3}\n",
        "s2={2,3,4}\n",
        "print(s1.intersection(s2))"
      ]
    },
    {
      "cell_type": "code",
      "execution_count": 16,
      "id": "6369c4d6",
      "metadata": {
        "colab": {
          "base_uri": "https://localhost:8080/"
        },
        "id": "6369c4d6",
        "outputId": "ea252b12-842b-4c60-baa1-4f1356ec7b23"
      },
      "outputs": [
        {
          "output_type": "stream",
          "name": "stdout",
          "text": [
            "{'name': 'ashok', 'age': 25, 'city': 'NY'}\n"
          ]
        }
      ],
      "source": [
        "# Practical Q21\n",
        "d={\"name\":\"ashok\",\"age\":25,\"city\":\"NY\"}\n",
        "print(d)"
      ]
    },
    {
      "cell_type": "code",
      "execution_count": 11,
      "id": "c37d613a",
      "metadata": {
        "colab": {
          "base_uri": "https://localhost:8080/"
        },
        "id": "c37d613a",
        "outputId": "29073b36-b07d-460f-bd7a-b38d31d58bc9"
      },
      "outputs": [
        {
          "output_type": "stream",
          "name": "stdout",
          "text": [
            "{'name': 'John', 'age': 25, 'country': 'USA'}\n"
          ]
        }
      ],
      "source": [
        "# Practical Q22\n",
        "d={\"name\":\"John\",\"age\":25}\n",
        "d[\"country\"]=\"USA\"\n",
        "print(d)"
      ]
    },
    {
      "cell_type": "code",
      "execution_count": 10,
      "id": "1a263669",
      "metadata": {
        "colab": {
          "base_uri": "https://localhost:8080/"
        },
        "id": "1a263669",
        "outputId": "5554b412-0ffd-4aee-8fb7-0076c021af84"
      },
      "outputs": [
        {
          "output_type": "stream",
          "name": "stdout",
          "text": [
            "Ryan\n"
          ]
        }
      ],
      "source": [
        "# Practical Q23\n",
        "d={\"name\":\"Ryan\",\"age\":30}\n",
        "print(d[\"name\"])"
      ]
    },
    {
      "cell_type": "code",
      "execution_count": 8,
      "id": "d948c5cb",
      "metadata": {
        "colab": {
          "base_uri": "https://localhost:8080/"
        },
        "id": "d948c5cb",
        "outputId": "2f6403bb-1ddc-4efc-8e60-8a384a55bc30"
      },
      "outputs": [
        {
          "output_type": "stream",
          "name": "stdout",
          "text": [
            "{'name': 'Bob', 'city': 'New York'}\n"
          ]
        }
      ],
      "source": [
        "# Practical Q24\n",
        "d={\"name\":\"Bob\",\"age\":22,\"city\":\"New York\"}\n",
        "d.pop(\"age\")\n",
        "print(d)"
      ]
    },
    {
      "cell_type": "code",
      "execution_count": 7,
      "id": "e6272774",
      "metadata": {
        "colab": {
          "base_uri": "https://localhost:8080/"
        },
        "id": "e6272774",
        "outputId": "e7003aba-c7dd-4822-8811-1e141ce4d4b3"
      },
      "outputs": [
        {
          "output_type": "stream",
          "name": "stdout",
          "text": [
            "True\n"
          ]
        }
      ],
      "source": [
        "# Practical Q25\n",
        "d={\"name\":\"Alice\",\"city\":\"Paris\"}\n",
        "print(\"city\" in d)"
      ]
    },
    {
      "cell_type": "code",
      "execution_count": 6,
      "id": "247144e2",
      "metadata": {
        "colab": {
          "base_uri": "https://localhost:8080/"
        },
        "id": "247144e2",
        "outputId": "7c50ef7b-f5c5-4443-f22c-ee840e16e845"
      },
      "outputs": [
        {
          "output_type": "stream",
          "name": "stdout",
          "text": [
            "[1, 2, 3] (4, 5, 6) {'a': 1, 'b': 2}\n"
          ]
        }
      ],
      "source": [
        "# Practical Q26\n",
        "lst=[1,2,3]\n",
        "t=(4,5,6)\n",
        "d={\"a\":1,\"b\":2}\n",
        "print(lst,t,d)"
      ]
    },
    {
      "cell_type": "code",
      "execution_count": 5,
      "id": "f784ce8e",
      "metadata": {
        "colab": {
          "base_uri": "https://localhost:8080/"
        },
        "id": "f784ce8e",
        "outputId": "6f4728b6-f483-4a52-f725-aeeecbcc44a6"
      },
      "outputs": [
        {
          "output_type": "stream",
          "name": "stdout",
          "text": [
            "[3, 5, 51, 80, 98]\n"
          ]
        }
      ],
      "source": [
        "# Practical Q27\n",
        "import random\n",
        "lst=random.sample(range(1,101),5)\n",
        "lst.sort()\n",
        "print(lst)"
      ]
    },
    {
      "cell_type": "code",
      "execution_count": 4,
      "id": "1a67d891",
      "metadata": {
        "colab": {
          "base_uri": "https://localhost:8080/"
        },
        "id": "1a67d891",
        "outputId": "e0db549e-b186-4052-9fc4-959ac2d508f6"
      },
      "outputs": [
        {
          "output_type": "stream",
          "name": "stdout",
          "text": [
            "date\n"
          ]
        }
      ],
      "source": [
        "# Practical Q28\n",
        "lst=[\"apple\",\"banana\",\"cherry\",\"date\",\"kiwi\"]\n",
        "print(lst[3])"
      ]
    },
    {
      "cell_type": "code",
      "execution_count": 3,
      "id": "67795380",
      "metadata": {
        "colab": {
          "base_uri": "https://localhost:8080/"
        },
        "id": "67795380",
        "outputId": "343c36c9-abe8-44eb-b3b5-a7179627b0ef"
      },
      "outputs": [
        {
          "output_type": "stream",
          "name": "stdout",
          "text": [
            "{'a': 1, 'b': 2, 'c': 3, 'd': 4}\n"
          ]
        }
      ],
      "source": [
        "# Practical Q29\n",
        "d1={\"a\":1,\"b\":2}\n",
        "d2={\"c\":3,\"d\":4}\n",
        "d1.update(d2)\n",
        "print(d1)"
      ]
    },
    {
      "cell_type": "code",
      "execution_count": 2,
      "id": "578e76c8",
      "metadata": {
        "colab": {
          "base_uri": "https://localhost:8080/"
        },
        "id": "578e76c8",
        "outputId": "4c9fbb80-7aa8-4442-f320-3b4337a884b2"
      },
      "outputs": [
        {
          "output_type": "stream",
          "name": "stdout",
          "text": [
            "{'kiwi', 'cherry', 'apple'}\n"
          ]
        }
      ],
      "source": [
        "# Practical Q30\n",
        "lst=[\"apple\",\"kiwi\",\"apple\",\"cherry\"]\n",
        "s=set(lst)\n",
        "print(s)"
      ]
    }
  ],
  "metadata": {
    "colab": {
      "provenance": [],
      "include_colab_link": true
    },
    "language_info": {
      "name": "python"
    },
    "kernelspec": {
      "name": "python3",
      "display_name": "Python 3"
    }
  },
  "nbformat": 4,
  "nbformat_minor": 5
}