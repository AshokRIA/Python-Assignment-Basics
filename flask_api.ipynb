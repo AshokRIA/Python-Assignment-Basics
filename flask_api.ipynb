{
 "cells": [
  {
   "cell_type": "markdown",
   "id": "ec5fa382",
   "metadata": {},
   "source": [
    "### Question 1\n",
    "**What is a RESTful API**\n",
    "\n",
    "**Answer:** A RESTful API is an API that follows REST principles, using HTTP methods to interact with resources identified by URLs."
   ]
  },
  {
   "cell_type": "markdown",
   "id": "865a2e3b",
   "metadata": {},
   "source": [
    "### Question 2\n",
    "**Explain the concept of API specification**\n",
    "\n",
    "**Answer:** An API specification defines endpoints, request/response formats, and rules for using an API."
   ]
  },
  {
   "cell_type": "markdown",
   "id": "70c4a1d4",
   "metadata": {},
   "source": [
    "### Question 3\n",
    "**What is Flask, and why is it popular for building APIs**\n",
    "\n",
    "**Answer:** Flask is a lightweight Python web framework known for its simplicity and flexibility in building APIs."
   ]
  },
  {
   "cell_type": "markdown",
   "id": "27c9c5a5",
   "metadata": {},
   "source": [
    "### Question 4\n",
    "**What is routing in Flask**\n",
    "\n",
    "**Answer:** Routing in Flask maps URLs to functions that handle the request."
   ]
  },
  {
   "cell_type": "markdown",
   "id": "55344091",
   "metadata": {},
   "source": [
    "### Question 5\n",
    "**How do you create a simple Flask application**\n",
    "\n",
    "**Answer:** By instantiating Flask and defining routes using @app.route."
   ]
  },
  {
   "cell_type": "markdown",
   "id": "f7b06f16",
   "metadata": {},
   "source": [
    "### Question 6\n",
    "**What are HTTP methods used in RESTful APIs**\n",
    "\n",
    "**Answer:** GET, POST, PUT, DELETE, PATCH are common HTTP methods."
   ]
  },
  {
   "cell_type": "markdown",
   "id": "d80de8e7",
   "metadata": {},
   "source": [
    "### Question 7\n",
    "**What is the purpose of the @app.route() decorator in Flask**\n",
    "\n",
    "**Answer:** It binds a URL to a function, defining a route."
   ]
  },
  {
   "cell_type": "markdown",
   "id": "a1a00b21",
   "metadata": {},
   "source": [
    "### Question 8\n",
    "**What is the difference between GET and POST HTTP methods**\n",
    "\n",
    "**Answer:** GET retrieves data without changes; POST sends data to create/update resources."
   ]
  },
  {
   "cell_type": "markdown",
   "id": "ab4b2c48",
   "metadata": {},
   "source": [
    "### Question 9\n",
    "**How do you handle errors in Flask APIs**\n",
    "\n",
    "**Answer:** Use @app.errorhandler or return appropriate status codes."
   ]
  },
  {
   "cell_type": "markdown",
   "id": "dfbf51db",
   "metadata": {},
   "source": [
    "### Question 10\n",
    "**How do you connect Flask to a SQL database**\n",
    "\n",
    "**Answer:** Use Flask-SQLAlchemy or database connectors."
   ]
  },
  {
   "cell_type": "markdown",
   "id": "5e0d6d0d",
   "metadata": {},
   "source": [
    "### Question 11\n",
    "**What is the role of Flask-SQLAlchemy**\n",
    "\n",
    "**Answer:** It integrates SQLAlchemy ORM with Flask."
   ]
  },
  {
   "cell_type": "markdown",
   "id": "0c55dd22",
   "metadata": {},
   "source": [
    "### Question 12\n",
    "**What are Flask blueprints, and how are they useful**\n",
    "\n",
    "**Answer:** Blueprints group related routes and logic for modular apps."
   ]
  },
  {
   "cell_type": "markdown",
   "id": "285f1668",
   "metadata": {},
   "source": [
    "### Question 13\n",
    "**What is the purpose of Flask's request object**\n",
    "\n",
    "**Answer:** It holds data about the incoming request like JSON or form data."
   ]
  },
  {
   "cell_type": "markdown",
   "id": "2744004f",
   "metadata": {},
   "source": [
    "### Question 14\n",
    "**How do you create a RESTful API endpoint using Flask**\n",
    "\n",
    "**Answer:** Define a route and return JSON responses using jsonify."
   ]
  },
  {
   "cell_type": "markdown",
   "id": "e29e7da5",
   "metadata": {},
   "source": [
    "### Question 15\n",
    "**What is the purpose of Flask's jsonify() function**\n",
    "\n",
    "**Answer:** It converts Python objects to JSON with correct headers."
   ]
  },
  {
   "cell_type": "markdown",
   "id": "8860d1bb",
   "metadata": {},
   "source": [
    "### Question 16\n",
    "**Explain Flask’s url_for() function**\n",
    "\n",
    "**Answer:** url_for() generates URLs for routes dynamically."
   ]
  },
  {
   "cell_type": "markdown",
   "id": "11d97429",
   "metadata": {},
   "source": [
    "### Question 17\n",
    "**How does Flask handle static files (CSS, JavaScript, etc.)**\n",
    "\n",
    "**Answer:** It serves files from the 'static' folder."
   ]
  },
  {
   "cell_type": "markdown",
   "id": "fb2bd9ec",
   "metadata": {},
   "source": [
    "### Question 18\n",
    "**What is an API specification, and how does it help in building a Flask API**\n",
    "\n",
    "**Answer:** It standardizes API design, helping consistency and integration."
   ]
  },
  {
   "cell_type": "markdown",
   "id": "134870ca",
   "metadata": {},
   "source": [
    "### Question 19\n",
    "**What are HTTP status codes, and why are they important in a Flask API**\n",
    "\n",
    "**Answer:** They indicate request outcomes like 200 OK, 404 Not Found."
   ]
  },
  {
   "cell_type": "markdown",
   "id": "25250f3e",
   "metadata": {},
   "source": [
    "### Question 20\n",
    "**How do you handle POST requests in Flask**\n",
    "\n",
    "**Answer:** Set methods=['POST'] in @app.route and access request.form or request.json."
   ]
  },
  {
   "cell_type": "markdown",
   "id": "63e50d9c",
   "metadata": {},
   "source": [
    "### Question 21\n",
    "**How would you secure a Flask API**\n",
    "\n",
    "**Answer:** Use HTTPS, authentication (JWT, OAuth), and validation."
   ]
  },
  {
   "cell_type": "markdown",
   "id": "7025d204",
   "metadata": {},
   "source": [
    "### Question 22\n",
    "**What is the significance of the Flask-RESTful extension**\n",
    "\n",
    "**Answer:** It simplifies REST API development with resources and routing."
   ]
  },
  {
   "cell_type": "markdown",
   "id": "74d46b10",
   "metadata": {},
   "source": [
    "### Question 23\n",
    "**What is the role of Flask’s session object?**\n",
    "\n",
    "**Answer:** It stores user-specific data across requests using signed cookies."
   ]
  },
  {
   "cell_type": "markdown",
   "id": "eff7749a",
   "metadata": {},
   "source": [
    "### Question 24\n",
    "**How do you create a basic Flask application**"
   ]
  },
  {
   "cell_type": "code",
   "execution_count": null,
   "id": "866bb37c",
   "metadata": {},
   "outputs": [],
   "source": [
    "from flask import Flask\n",
    "app = Flask(__name__)\n",
    "\n",
    "@app.route('/')\n",
    "def home():\n",
    "    return 'Hello, Flask!'\n",
    "\n",
    "# Run with: flask run\n",
    "# Visit http://127.0.0.1:5000/\n",
    "\n",
    "# Expected Output:\n",
    "# Hello, Flask!"
   ]
  },
  {
   "cell_type": "markdown",
   "id": "3ef7e0f0",
   "metadata": {},
   "source": [
    "### Question 25\n",
    "**How do you serve static files like images or CSS in Flask**"
   ]
  },
  {
   "cell_type": "code",
   "execution_count": null,
   "id": "b153e515",
   "metadata": {},
   "outputs": [],
   "source": [
    "from flask import Flask\n",
    "app = Flask(__name__)\n",
    "\n",
    "@app.route('/')\n",
    "def index():\n",
    "    return '<link rel=\"stylesheet\" href=\"/static/style.css\">Hello'\n",
    "\n",
    "# Expected Output:\n",
    "# Page with applied CSS from static/style.css"
   ]
  },
  {
   "cell_type": "markdown",
   "id": "377afc5b",
   "metadata": {},
   "source": [
    "### Question 26\n",
    "**How do you define different routes with different HTTP methods in Flask**"
   ]
  },
  {
   "cell_type": "code",
   "execution_count": null,
   "id": "f154f146",
   "metadata": {},
   "outputs": [],
   "source": [
    "from flask import Flask, request\n",
    "app = Flask(__name__)\n",
    "\n",
    "@app.route('/data', methods=['GET','POST'])\n",
    "def data():\n",
    "    if request.method == 'GET':\n",
    "        return 'GET request'\n",
    "    else:\n",
    "        return 'POST request'\n",
    "\n",
    "# Expected Output:\n",
    "# GET -> 'GET request', POST -> 'POST request'"
   ]
  },
  {
   "cell_type": "markdown",
   "id": "0dde37e8",
   "metadata": {},
   "source": [
    "### Question 27\n",
    "**How do you render HTML templates in Flask**"
   ]
  },
  {
   "cell_type": "code",
   "execution_count": null,
   "id": "e2f8a1b5",
   "metadata": {},
   "outputs": [],
   "source": [
    "from flask import Flask, render_template\n",
    "app = Flask(__name__)\n",
    "\n",
    "@app.route('/')\n",
    "def home():\n",
    "    return render_template('index.html')\n",
    "\n",
    "# Expected Output:\n",
    "# Renders index.html"
   ]
  },
  {
   "cell_type": "markdown",
   "id": "4bbe4cd4",
   "metadata": {},
   "source": [
    "### Question 28\n",
    "**How can you generate URLs for routes in Flask using url_for**"
   ]
  },
  {
   "cell_type": "code",
   "execution_count": null,
   "id": "3f48ecbe",
   "metadata": {},
   "outputs": [],
   "source": [
    "from flask import Flask, url_for\n",
    "app = Flask(__name__)\n",
    "\n",
    "@app.route('/')\n",
    "def home():\n",
    "    return 'Home'\n",
    "\n",
    "@app.route('/about')\n",
    "def about():\n",
    "    return 'About'\n",
    "\n",
    "# Example: url_for('about') -> '/about'"
   ]
  },
  {
   "cell_type": "markdown",
   "id": "b7c4c527",
   "metadata": {},
   "source": [
    "### Question 29\n",
    "**How do you handle forms in Flask**"
   ]
  },
  {
   "cell_type": "code",
   "execution_count": null,
   "id": "62ab8579",
   "metadata": {},
   "outputs": [],
   "source": [
    "from flask import Flask, request\n",
    "app = Flask(__name__)\n",
    "\n",
    "@app.route('/submit', methods=['POST'])\n",
    "def submit():\n",
    "    data = request.form['name']\n",
    "    return f'Hello {data}'\n",
    "\n",
    "# Expected Output:\n",
    "# POST with name=John -> 'Hello John'"
   ]
  },
  {
   "cell_type": "markdown",
   "id": "78a070e7",
   "metadata": {},
   "source": [
    "### Question 30\n",
    "**How can you validate form data in Flask**"
   ]
  },
  {
   "cell_type": "code",
   "execution_count": null,
   "id": "cbe15c1e",
   "metadata": {},
   "outputs": [],
   "source": [
    "from flask import Flask, request\n",
    "app = Flask(__name__)\n",
    "\n",
    "@app.route('/submit', methods=['POST'])\n",
    "def submit():\n",
    "    if not request.form.get('email'):\n",
    "        return 'Email required'\n",
    "    return 'Valid'\n",
    "\n",
    "# Expected Output:\n",
    "# Missing email -> 'Email required'"
   ]
  },
  {
   "cell_type": "markdown",
   "id": "a6b78f88",
   "metadata": {},
   "source": [
    "### Question 31\n",
    "**How do you manage sessions in Flask**"
   ]
  },
  {
   "cell_type": "code",
   "execution_count": null,
   "id": "9d06a984",
   "metadata": {},
   "outputs": [],
   "source": [
    "from flask import Flask, session\n",
    "app = Flask(__name__)\n",
    "app.secret_key = 'secret'\n",
    "\n",
    "@app.route('/')\n",
    "def index():\n",
    "    session['user'] = 'Alice'\n",
    "    return 'Session set'\n",
    "\n",
    "# Expected Output:\n",
    "# Session stores user=Alice"
   ]
  },
  {
   "cell_type": "markdown",
   "id": "ec803480",
   "metadata": {},
   "source": [
    "### Question 32\n",
    "**How do you redirect to a different route in Flask**"
   ]
  },
  {
   "cell_type": "code",
   "execution_count": null,
   "id": "5a8b4c35",
   "metadata": {},
   "outputs": [],
   "source": [
    "from flask import Flask, redirect, url_for\n",
    "app = Flask(__name__)\n",
    "\n",
    "@app.route('/')\n",
    "def index():\n",
    "    return redirect(url_for('hello'))\n",
    "\n",
    "@app.route('/hello')\n",
    "def hello():\n",
    "    return 'Hello'\n",
    "\n",
    "# Expected Output:\n",
    "# Visiting '/' redirects to '/hello' -> 'Hello'"
   ]
  },
  {
   "cell_type": "markdown",
   "id": "859f75f5",
   "metadata": {},
   "source": [
    "### Question 33\n",
    "**How do you handle errors in Flask (e.g., 404)**"
   ]
  },
  {
   "cell_type": "code",
   "execution_count": null,
   "id": "ebb2f318",
   "metadata": {},
   "outputs": [],
   "source": [
    "from flask import Flask\n",
    "app = Flask(__name__)\n",
    "\n",
    "@app.errorhandler(404)\n",
    "def not_found(e):\n",
    "    return 'Page not found', 404\n",
    "\n",
    "# Expected Output:\n",
    "# Visiting unknown route -> 'Page not found'"
   ]
  },
  {
   "cell_type": "markdown",
   "id": "e309d452",
   "metadata": {},
   "source": [
    "### Question 34\n",
    "**How do you structure a Flask app using Blueprints**"
   ]
  },
  {
   "cell_type": "code",
   "execution_count": null,
   "id": "f2aeb534",
   "metadata": {},
   "outputs": [],
   "source": [
    "from flask import Blueprint, Flask\n",
    "bp = Blueprint('bp', __name__)\n",
    "\n",
    "@bp.route('/hello')\n",
    "def hello():\n",
    "    return 'Hello from blueprint'\n",
    "\n",
    "app = Flask(__name__)\n",
    "app.register_blueprint(bp)\n",
    "\n",
    "# Expected Output:\n",
    "# Visiting /hello -> 'Hello from blueprint'"
   ]
  },
  {
   "cell_type": "markdown",
   "id": "cc9f0896",
   "metadata": {},
   "source": [
    "### Question 35\n",
    "**How do you define a custom Jinja filter in Flask**"
   ]
  },
  {
   "cell_type": "code",
   "execution_count": null,
   "id": "e8e1f623",
   "metadata": {},
   "outputs": [],
   "source": [
    "from flask import Flask\n",
    "app = Flask(__name__)\n",
    "\n",
    "@app.template_filter('reverse')\n",
    "def reverse_filter(s):\n",
    "    return s[::-1]\n",
    "\n",
    "# Expected Output:\n",
    "# {{ 'hello'|reverse }} -> 'olleh'"
   ]
  },
  {
   "cell_type": "markdown",
   "id": "eace314f",
   "metadata": {},
   "source": [
    "### Question 36\n",
    "**How can you redirect with query parameters in Flask**"
   ]
  },
  {
   "cell_type": "code",
   "execution_count": null,
   "id": "2f43043c",
   "metadata": {},
   "outputs": [],
   "source": [
    "from flask import Flask, redirect, url_for\n",
    "app = Flask(__name__)\n",
    "\n",
    "@app.route('/')\n",
    "def index():\n",
    "    return redirect(url_for('search', q='flask'))\n",
    "\n",
    "@app.route('/search')\n",
    "def search():\n",
    "    return 'Searching'\n",
    "\n",
    "# Expected Output:\n",
    "# Redirect to /search?q=flask"
   ]
  },
  {
   "cell_type": "markdown",
   "id": "e3750bc8",
   "metadata": {},
   "source": [
    "### Question 37\n",
    "**How do you return JSON responses in Flask**"
   ]
  },
  {
   "cell_type": "code",
   "execution_count": null,
   "id": "022f91e4",
   "metadata": {},
   "outputs": [],
   "source": [
    "from flask import Flask, jsonify\n",
    "app = Flask(__name__)\n",
    "\n",
    "@app.route('/api')\n",
    "def api():\n",
    "    return jsonify({'msg':'Hello'})\n",
    "\n",
    "# Expected Output:\n",
    "# {\"msg\": \"Hello\"}"
   ]
  },
  {
   "cell_type": "markdown",
   "id": "30467d95",
   "metadata": {},
   "source": [
    "### Question 38\n",
    "**How do you capture URL parameters in Flask?**"
   ]
  },
  {
   "cell_type": "code",
   "execution_count": null,
   "id": "bcc15128",
   "metadata": {},
   "outputs": [],
   "source": [
    "from flask import Flask\n",
    "app = Flask(__name__)\n",
    "\n",
    "@app.route('/user/<name>')\n",
    "def user(name):\n",
    "    return f'Hello {name}'\n",
    "\n",
    "# Expected Output:\n",
    "# Visiting /user/Alice -> 'Hello Alice'"
   ]
  }
 ],
 "metadata": {},
 "nbformat": 4,
 "nbformat_minor": 5
}
