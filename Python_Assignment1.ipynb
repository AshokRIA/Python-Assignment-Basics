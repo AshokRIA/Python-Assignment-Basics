{
  "nbformat": 4,
  "nbformat_minor": 0,
  "metadata": {
    "colab": {
      "provenance": []
    },
    "kernelspec": {
      "name": "python3",
      "display_name": "Python 3"
    },
    "language_info": {
      "name": "python"
    }
  },
  "cells": [
    {
      "cell_type": "markdown",
      "source": [],
      "metadata": {
        "id": "lO6GIRHoDqu7"
      }
    },
    {
      "cell_type": "markdown",
      "source": [
        "# Python Basics Questions\n",
        "\n",
        "### Q1. What is Python, and why is it popular?\n",
        "**Answer:** Python is a high-level, interpreted programming language known for its readability and simple syntax. It's popular due to its large community, vast libraries, and applications in web development, data science, AI, and automation.\n",
        "\n",
        "### Q2. What is an interpreter in Python?\n",
        "**Answer:** An interpreter executes Python code line-by-line, converting it into machine code at runtime. This allows easier debugging and cross-platform compatibility.\n",
        "\n",
        "### Q3. What are pre-defined keywords in Python?\n",
        "**Answer:** Pre-defined keywords are reserved words in Python that have special meanings, like `if`, `else`, `while`, `for`, `def`, etc.\n",
        "\n",
        "### Q4. Can keywords be used as variable names?\n",
        "**Answer:** No, Python keywords cannot be used as variable names because they are reserved for specific syntax or function.\n",
        "\n",
        "### Q5. What is mutability in Python?\n",
        "**Answer:** Mutability refers to whether an object can be changed after creation. Mutable objects (like lists) can be changed, while immutable ones (like tuples) cannot.\n",
        "\n",
        "### Q6. Why are lists mutable, but tuples are immutable?\n",
        "**Answer:** Lists are designed to be flexible and allow changes like adding/removing items. Tuples are immutable for fixed data structures and provide performance and safety advantages.\n",
        "\n",
        "### Q7. What is the difference between “==” and “is” operators in Python?\n",
        "**Answer:** `==` checks if values are equal, whereas `is` checks if two variables point to the same object in memory.\n",
        "\n",
        "### Q8. What are logical operators in Python?\n",
        "**Answer:** Logical operators are used to combine conditional statements:\n",
        "- `and`: returns True if both conditions are true\n",
        "- `or`: returns True if at least one condition is true\n",
        "- `not`: reverses the result\n",
        "\n",
        "### Q9. What is type casting in Python?\n",
        "**Answer:** Type casting is converting one data type into another, like `int(\"5\")` to convert string to integer.\n",
        "\n",
        "### Q10. What is the difference between implicit and explicit type casting?\n",
        "**Answer:** Implicit casting is done automatically by Python. Explicit casting requires the programmer to convert types manually using functions like `int()`, `float()`, etc.\n",
        "\n",
        "### Q11. What is the purpose of conditional statements in Python?\n",
        "**Answer:** Conditional statements allow decision-making in code using `if`, `elif`, and `else`.\n",
        "\n",
        "### Q12. How does the elif statement work?\n",
        "**Answer:** `elif` lets you check multiple conditions. If the `if` condition is False, it moves to `elif`, and then to `else`.\n",
        "\n",
        "### Q13. What is the difference between for and while loops?\n",
        "**Answer:** `for` loops are used for iterating over sequences. `while` loops run as long as a condition is True.\n",
        "\n",
        "### Q14. Describe a scenario where a while loop is more suitable than a for loop.\n",
        "**Answer:** A `while` loop is more suitable when the number of iterations is unknown, like reading user input until they enter a specific value."
      ],
      "metadata": {
        "id": "wB3KoFzlDr6V"
      }
    },
    {
      "cell_type": "code",
      "source": [
        "# Q1. Write a Python program to print \"Hello, World!\"\n",
        "print(\"Hello, World!\")\n"
      ],
      "metadata": {
        "colab": {
          "base_uri": "https://localhost:8080/"
        },
        "id": "iagdMBmRHFdD",
        "outputId": "7c9f9216-9b92-48cc-810a-86111fe26b8c"
      },
      "execution_count": 3,
      "outputs": [
        {
          "output_type": "stream",
          "name": "stdout",
          "text": [
            "Hello, World!\n"
          ]
        }
      ]
    },
    {
      "cell_type": "code",
      "source": [
        "# Q2. Write a Python program that displays your name and age.\n",
        "name = \"Ashok\"\n",
        "age = 25\n",
        "print(\"Name:\", name)\n",
        "print(\"Age:\", age)\n"
      ],
      "metadata": {
        "colab": {
          "base_uri": "https://localhost:8080/"
        },
        "id": "-O6JXmBZMPT7",
        "outputId": "c8d0b481-7049-4e95-cae6-72c29cc41845"
      },
      "execution_count": 4,
      "outputs": [
        {
          "output_type": "stream",
          "name": "stdout",
          "text": [
            "Name: Ashok\n",
            "Age: 25\n"
          ]
        }
      ]
    },
    {
      "cell_type": "code",
      "source": [
        "# Q3. Write code to print all pre-defined keywords in Python.\n",
        "import keyword\n",
        "print(keyword.kwlist)\n"
      ],
      "metadata": {
        "colab": {
          "base_uri": "https://localhost:8080/"
        },
        "id": "udx7tMtPMR4j",
        "outputId": "18c5b7ed-b338-4379-e30c-3e7bdfb54e38"
      },
      "execution_count": 5,
      "outputs": [
        {
          "output_type": "stream",
          "name": "stdout",
          "text": [
            "['False', 'None', 'True', 'and', 'as', 'assert', 'async', 'await', 'break', 'class', 'continue', 'def', 'del', 'elif', 'else', 'except', 'finally', 'for', 'from', 'global', 'if', 'import', 'in', 'is', 'lambda', 'nonlocal', 'not', 'or', 'pass', 'raise', 'return', 'try', 'while', 'with', 'yield']\n"
          ]
        }
      ]
    },
    {
      "cell_type": "code",
      "source": [
        "# Q4. Write a program that checks if a given word is a Python keyword.\n",
        "word = \"for\"\n",
        "print(f\"Is '{word}' a keyword?\", keyword.iskeyword(word))\n",
        "\n"
      ],
      "metadata": {
        "colab": {
          "base_uri": "https://localhost:8080/"
        },
        "id": "LYsXC8nxMXRo",
        "outputId": "9130f25b-773a-449f-8d5e-5600f65d081c"
      },
      "execution_count": 6,
      "outputs": [
        {
          "output_type": "stream",
          "name": "stdout",
          "text": [
            "Is 'for' a keyword? True\n"
          ]
        }
      ]
    },
    {
      "cell_type": "code",
      "source": [
        "# Q5. Create a list and tuple and show how they behave differently.\n",
        "my_list = [1, 2, 3]\n",
        "my_tuple = (1, 2, 3)\n",
        "\n",
        "# Trying to modify\n",
        "my_list[0] = 100  # Works\n",
        "print(\"Modified list:\", my_list)\n",
        "\n",
        "# my_tuple[0] = 100  # Uncommenting this will throw an error (immutable)\n",
        "\n"
      ],
      "metadata": {
        "colab": {
          "base_uri": "https://localhost:8080/"
        },
        "id": "FoV00snOMaQX",
        "outputId": "284d781b-6f23-4800-ea9b-e6b2469991a0"
      },
      "execution_count": 10,
      "outputs": [
        {
          "output_type": "stream",
          "name": "stdout",
          "text": [
            "Modified list: [100, 2, 3]\n"
          ]
        }
      ]
    },
    {
      "cell_type": "code",
      "source": [
        "# Q6. Function to show behavior of mutable and immutable arguments\n",
        "def modify_list(lst):\n",
        "    lst.append(10)\n",
        "    print(\"Inside function:\", lst)\n",
        "\n",
        "a = [1, 2, 3]\n",
        "modify_list(a)\n",
        "print(\"Outside function:\", a)\n"
      ],
      "metadata": {
        "colab": {
          "base_uri": "https://localhost:8080/"
        },
        "id": "LJI5NhJoMi6y",
        "outputId": "8406d6bb-2e09-4c31-a71b-d4f065ba82ea"
      },
      "execution_count": 11,
      "outputs": [
        {
          "output_type": "stream",
          "name": "stdout",
          "text": [
            "Inside function: [1, 2, 3, 10]\n",
            "Outside function: [1, 2, 3, 10]\n"
          ]
        }
      ]
    },
    {
      "cell_type": "code",
      "source": [
        "# Q7. Basic arithmetic operations on two user-input numbers.\n",
        "a = int(input(\"Enter first number: \"))\n",
        "b = int(input(\"Enter second number: \"))\n",
        "print(\"Sum:\", a + b)\n",
        "print(\"Difference:\", a - b)\n",
        "print(\"Product:\", a * b)\n",
        "print(\"Quotient:\", a / b)\n"
      ],
      "metadata": {
        "colab": {
          "base_uri": "https://localhost:8080/"
        },
        "id": "eAe2y6e_MloS",
        "outputId": "b7cf178d-30d5-42a3-ca1c-210164ee704d"
      },
      "execution_count": 12,
      "outputs": [
        {
          "output_type": "stream",
          "name": "stdout",
          "text": [
            "Enter first number: 1\n",
            "Enter second number: 2\n",
            "Sum: 3\n",
            "Difference: -1\n",
            "Product: 2\n",
            "Quotient: 0.5\n"
          ]
        }
      ]
    },
    {
      "cell_type": "code",
      "source": [
        "# Q8. Demonstrate logical operators\n",
        "x = True\n",
        "y = False\n",
        "print(\"x and y:\", x and y)\n",
        "print(\"x or y:\", x or y)\n",
        "print(\"not x:\", not x)\n"
      ],
      "metadata": {
        "colab": {
          "base_uri": "https://localhost:8080/"
        },
        "id": "-KgvEXOfMe8A",
        "outputId": "60d9617d-7f7f-45d0-970e-9d04f9e11edc"
      },
      "execution_count": 13,
      "outputs": [
        {
          "output_type": "stream",
          "name": "stdout",
          "text": [
            "x and y: False\n",
            "x or y: True\n",
            "not x: False\n"
          ]
        }
      ]
    },
    {
      "cell_type": "code",
      "source": [
        "# Q9. Convert user input into string, int, float, and bool\n",
        "s = input(\"Enter a number: \")\n",
        "print(\"As string:\", s)\n",
        "print(\"As int:\", int(s))\n",
        "print(\"As float:\", float(s))\n",
        "print(\"As bool:\", bool(s))\n"
      ],
      "metadata": {
        "colab": {
          "base_uri": "https://localhost:8080/"
        },
        "id": "AkPhhLWqMwau",
        "outputId": "4be6ea1e-8b0a-4ea1-c19f-10e53f0005da"
      },
      "execution_count": 14,
      "outputs": [
        {
          "output_type": "stream",
          "name": "stdout",
          "text": [
            "Enter a number: 2\n",
            "As string: 2\n",
            "As int: 2\n",
            "As float: 2.0\n",
            "As bool: True\n"
          ]
        }
      ]
    },
    {
      "cell_type": "code",
      "source": [
        "# Q10. Type casting with list elements\n",
        "lst = ['1', '2', '3']\n",
        "int_lst = list(map(int, lst))\n",
        "print(\"After casting to integers:\", int_lst)\n"
      ],
      "metadata": {
        "colab": {
          "base_uri": "https://localhost:8080/"
        },
        "id": "kKwdM-cEM0Gw",
        "outputId": "d3831727-b4dc-4e50-88f0-2f6df50b8454"
      },
      "execution_count": 15,
      "outputs": [
        {
          "output_type": "stream",
          "name": "stdout",
          "text": [
            "After casting to integers: [1, 2, 3]\n"
          ]
        }
      ]
    },
    {
      "cell_type": "code",
      "source": [
        "# Q11. Check if number is positive, negative, or zero\n",
        "num = int(input(\"Enter a number: \"))\n",
        "if num > 0:\n",
        "    print(\"Positive\")\n",
        "elif num < 0:\n",
        "    print(\"Negative\")\n",
        "else:\n",
        "    print(\"Zero\")\n"
      ],
      "metadata": {
        "colab": {
          "base_uri": "https://localhost:8080/"
        },
        "id": "D2J6_g3xM2Ro",
        "outputId": "8921dfc7-b6f9-4b44-8053-1e320c6d7b29"
      },
      "execution_count": 16,
      "outputs": [
        {
          "output_type": "stream",
          "name": "stdout",
          "text": [
            "Enter a number: 4\n",
            "Positive\n"
          ]
        }
      ]
    },
    {
      "cell_type": "code",
      "source": [
        "# Q12. For loop to print numbers 1 to 10\n",
        "for i in range(1, 11):\n",
        "    print(i, end=' ')\n",
        "\n"
      ],
      "metadata": {
        "colab": {
          "base_uri": "https://localhost:8080/"
        },
        "id": "PgItTBeoM5Bw",
        "outputId": "0feb3c06-4edc-4051-e1bb-bd13ac7826bb"
      },
      "execution_count": 17,
      "outputs": [
        {
          "output_type": "stream",
          "name": "stdout",
          "text": [
            "1 2 3 4 5 6 7 8 9 10 "
          ]
        }
      ]
    },
    {
      "cell_type": "code",
      "source": [
        "# Q13. Sum of all even numbers between 1 and 50\n",
        "even_sum = 0\n",
        "for i in range(1, 51):\n",
        "    if i % 2 == 0:\n",
        "        even_sum += i\n",
        "print(\"Sum of even numbers from 1 to 50:\", even_sum)\n"
      ],
      "metadata": {
        "colab": {
          "base_uri": "https://localhost:8080/"
        },
        "id": "s3IdyePFM64_",
        "outputId": "2d1faaa5-6651-4679-8929-e50c463dfacd"
      },
      "execution_count": 18,
      "outputs": [
        {
          "output_type": "stream",
          "name": "stdout",
          "text": [
            "Sum of even numbers from 1 to 50: 650\n"
          ]
        }
      ]
    },
    {
      "cell_type": "code",
      "source": [
        "# Q14. Reverse a string using while loop\n",
        "s = input(\"Enter a string: \")\n",
        "rev = ''\n",
        "i = len(s) - 1\n",
        "while i >= 0:\n",
        "    rev += s[i]\n",
        "    i -= 1\n",
        "print(\"Reversed string:\", rev)"
      ],
      "metadata": {
        "colab": {
          "base_uri": "https://localhost:8080/"
        },
        "id": "RaBPSTiPM_hi",
        "outputId": "bf43678d-9a4a-435e-a358-ac2b2ad3f527"
      },
      "execution_count": 20,
      "outputs": [
        {
          "output_type": "stream",
          "name": "stdout",
          "text": [
            "Enter a string: 5\n",
            "Reversed string: 5\n"
          ]
        }
      ]
    },
    {
      "cell_type": "code",
      "source": [
        "# Q15. Factorial using while loop\n",
        "num = int(input(\"Enter a number: \"))\n",
        "fact = 1\n",
        "i = 1\n",
        "while i <= num:\n",
        "    fact *= i\n",
        "    i += 1\n",
        "print(f\"Factorial of {num} is:\", fact)\n"
      ],
      "metadata": {
        "colab": {
          "base_uri": "https://localhost:8080/"
        },
        "id": "ydTh0Y9BNGJ8",
        "outputId": "d25007b7-e806-441d-a09c-5e5ba7819b85"
      },
      "execution_count": 24,
      "outputs": [
        {
          "output_type": "stream",
          "name": "stdout",
          "text": [
            "Enter a number: 8\n",
            "Factorial of 8 is: 40320\n"
          ]
        }
      ]
    }
  ]
}