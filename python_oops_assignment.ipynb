{
  "cells": [
    {
      "cell_type": "markdown",
      "metadata": {},
      "source": [
        "# Python OOPs Assignment \u2014 Solutions\n",
        "\n",
        "This notebook contains **both theory** answers and **practical Python implementations** for the provided assignment.\n",
        "\n",
        "Format:\n",
        "1. Theory Q&A\n",
        "2. Practical implementations (code cells) \u2014 each problem labeled and solved.\n"
      ]
    },
    {
      "cell_type": "markdown",
      "metadata": {},
      "source": [
        "## Theory Questions & Answers\n"
      ]
    },
    {
      "cell_type": "markdown",
      "metadata": {},
      "source": [
        "**Q:** What is Object-Oriented Programming (OOP)\n\n**A:** OOP is a programming paradigm based on the concept of 'objects' which bundle data and behaviour. It emphasizes modularity, encapsulation, reuse, and abstraction.\n"
      ]
    },
    {
      "cell_type": "markdown",
      "metadata": {},
      "source": [
        "**Q:** What is a class in OOP\n\n**A:** A class is a blueprint or template that defines attributes (data) and methods (behavior) for objects created from it.\n"
      ]
    },
    {
      "cell_type": "markdown",
      "metadata": {},
      "source": [
        "**Q:** What is an object in OOP\n\n**A:** An object is an instance of a class \u2014 it has state (attributes) and behavior (methods).\n"
      ]
    },
    {
      "cell_type": "markdown",
      "metadata": {},
      "source": [
        "**Q:** What is the difference between abstraction and encapsulation\n\n**A:** Abstraction hides complex implementation details and exposes only necessary parts; encapsulation bundles data and methods and restricts direct access to object internals (e.g., using private attributes).\n"
      ]
    },
    {
      "cell_type": "markdown",
      "metadata": {},
      "source": [
        "**Q:** What are dunder methods in Python\n\n**A:** Dunder (double-underscore) methods are special methods like `__init__`, `__str__`, `__repr__`, `__call__` that let classes implement built-in behavior and operator overloading.\n"
      ]
    },
    {
      "cell_type": "markdown",
      "metadata": {},
      "source": [
        "**Q:** Explain the concept of inheritance in OOP\n\n**A:** Inheritance lets a class (child) derive properties and behavior from another class (parent), enabling code reuse and hierarchical relationships.\n"
      ]
    },
    {
      "cell_type": "markdown",
      "metadata": {},
      "source": [
        "**Q:** What is polymorphism in OOP\n\n**A:** Polymorphism allows objects of different classes to be treated as objects of a common base class, typically via method overriding or duck typing.\n"
      ]
    },
    {
      "cell_type": "markdown",
      "metadata": {},
      "source": [
        "**Q:** How is encapsulation achieved in Python\n\n**A:** Encapsulation is achieved by using naming conventions (single underscore `_attr` for protected, double underscore `__attr` for name-mangling) and exposing controlled access via methods or properties.\n"
      ]
    },
    {
      "cell_type": "markdown",
      "metadata": {},
      "source": [
        "**Q:** What is a constructor in Python\n\n**A:** A constructor initializes new objects; in Python it's the `__init__` method called when an object is instantiated.\n"
      ]
    },
    {
      "cell_type": "markdown",
      "metadata": {},
      "source": [
        "**Q:** What are class and static methods in Python\n\n**A:** `@classmethod` receives the class as the first argument (conventionally `cls`) and can access class-level data; `@staticmethod` does not receive an implicit first argument and behaves like a regular function inside the class namespace.\n"
      ]
    },
    {
      "cell_type": "markdown",
      "metadata": {},
      "source": [
        "**Q:** What is method overloading in Python\n\n**A:** Python does not support true compile-time method overloading by signature. Overloading-like behavior is achieved using default arguments, *args/**kwargs, or single-dispatch decorators.\n"
      ]
    },
    {
      "cell_type": "markdown",
      "metadata": {},
      "source": [
        "**Q:** What is method overriding in OOP\n\n**A:** Method overriding is when a subclass provides its own implementation of a method defined in the parent class, replacing or extending behavior.\n"
      ]
    },
    {
      "cell_type": "markdown",
      "metadata": {},
      "source": [
        "**Q:** What is a property decorator in Python\n\n**A:** `@property` turns a method into a computed attribute, providing getter semantics; `@<name>.setter` and `@<name>.deleter` add setter/deleter behavior.\n"
      ]
    },
    {
      "cell_type": "markdown",
      "metadata": {},
      "source": [
        "**Q:** Why is polymorphism important in OOP\n\n**A:** Polymorphism enables flexible and extensible code: different object types can be used interchangeably, simplifying interfaces and enabling late binding.\n"
      ]
    },
    {
      "cell_type": "markdown",
      "metadata": {},
      "source": [
        "**Q:** What is an abstract class in Python\n\n**A:** An abstract class (from `abc.ABC`) can define abstract methods (decorated with `@abstractmethod`) that must be implemented by concrete subclasses. It cannot be instantiated directly.\n"
      ]
    },
    {
      "cell_type": "markdown",
      "metadata": {},
      "source": [
        "**Q:** What are the advantages of OOP\n\n**A:** Advantages include modularity, code reuse, easier maintenance, abstraction, and improved organization for complex systems.\n"
      ]
    },
    {
      "cell_type": "markdown",
      "metadata": {},
      "source": [
        "**Q:** What is the difference between a class variable and an instance variable\n\n**A:** A class variable is shared across all instances of the class; an instance variable is unique to each object instance.\n"
      ]
    },
    {
      "cell_type": "markdown",
      "metadata": {},
      "source": [
        "**Q:** What is multiple inheritance in Python\n\n**A:** Multiple inheritance means a class can inherit from more than one parent class. Python resolves method lookup using the Method Resolution Order (MRO).\n"
      ]
    },
    {
      "cell_type": "markdown",
      "metadata": {},
      "source": [
        "**Q:** Explain the purpose of `__str__` and `__repr__` methods in Python\n\n**A:** `__repr__` should return an unambiguous representation useful for debugging and ideally valid Python; `__str__` should return a readable, user-friendly string. If `__str__` is not defined, Python falls back to `__repr__`. \n"
      ]
    },
    {
      "cell_type": "markdown",
      "metadata": {},
      "source": [
        "**Q:** What is the significance of the `super()` function in Python\n\n**A:** `super()` lets you call methods from a parent class (especially useful in cooperative multiple inheritance) without explicitly naming the parent class.\n"
      ]
    },
    {
      "cell_type": "markdown",
      "metadata": {},
      "source": [
        "**Q:** What is the significance of the `__del__` method in Python\n\n**A:** `__del__` is the object destructor called when an object is garbage-collected. Its use is discouraged for critical cleanup due to unpredictability of garbage collection timing; prefer context managers.\n"
      ]
    },
    {
      "cell_type": "markdown",
      "metadata": {},
      "source": [
        "**Q:** What is the difference between `@staticmethod` and `@classmethod` in Python\n\n**A:** See earlier: `@staticmethod` has no implicit first argument; `@classmethod` receives the class (`cls`) as the first parameter and can modify class state.\n"
      ]
    },
    {
      "cell_type": "markdown",
      "metadata": {},
      "source": [
        "**Q:** How does polymorphism work in Python with inheritance\n\n**A:** Subclasses override parent methods; when called on a parent-typed reference, Python resolves the method on the concrete object's class at runtime (dynamic dispatch). Duck typing also enables polymorphism by relying on method availability rather than type.\n"
      ]
    },
    {
      "cell_type": "markdown",
      "metadata": {},
      "source": [
        "**Q:** What is method chaining in Python OOP\n\n**A:** Method chaining returns `self` from methods so calls can be chained like `obj.a().b().c()`, improving readability for fluent APIs.\n"
      ]
    },
    {
      "cell_type": "markdown",
      "metadata": {},
      "source": [
        "**Q:** What is the purpose of the `__call__` method in Python?\n\n**A:** `__call__` allows an instance to be called like a function, e.g., `obj()` invokes `obj.__call__()`. This enables function-like objects and configurable call behavior.\n"
      ]
    },
    {
      "cell_type": "markdown",
      "metadata": {},
      "source": [
        "## Practical Implementations\n"
      ]
    },
    {
      "cell_type": "markdown",
      "metadata": {},
      "source": [
        "### 1. Animal/Dog speak override\n"
      ]
    },
    {
      "cell_type": "code",
      "metadata": {},
      "execution_count": null,
      "outputs": [],
      "source": [
        "class Animal:\n    def speak(self):\n        print(\"Some generic animal sound\")\n\nclass Dog(Animal):\n    def speak(self):\n        print(\"Bark!\")\n\n# Demo\na = Animal()\nd = Dog()\na.speak()\nd.speak()\n"
      ]
    },
    {
      "cell_type": "markdown",
      "metadata": {},
      "source": [
        "### 2. Abstract Shape with area()\n"
      ]
    },
    {
      "cell_type": "code",
      "metadata": {},
      "execution_count": null,
      "outputs": [],
      "source": [
        "from abc import ABC, abstractmethod\nimport math\n\nclass Shape(ABC):\n    @abstractmethod\n    def area(self):\n        pass\n\nclass Circle(Shape):\n    def __init__(self, r):\n        self.r = r\n    def area(self):\n        return math.pi * self.r * self.r\n\nclass Rectangle(Shape):\n    def __init__(self, w, h):\n        self.w = w; self.h = h\n    def area(self):\n        return self.w * self.h\n\n# Demo\nc = Circle(3)\nr = Rectangle(4,5)\nprint(round(c.area(),2))\nprint(r.area())\n"
      ]
    },
    {
      "cell_type": "markdown",
      "metadata": {},
      "source": [
        "### 3. Multi-level inheritance Vehicle->Car->ElectricCar\n"
      ]
    },
    {
      "cell_type": "code",
      "metadata": {},
      "execution_count": null,
      "outputs": [],
      "source": [
        "class Vehicle:\n    def __init__(self, type_):\n        self.type = type_\n\nclass Car(Vehicle):\n    def __init__(self, type_, make):\n        super().__init__(type_)\n        self.make = make\n\nclass ElectricCar(Car):\n    def __init__(self, type_, make, battery_kwh):\n        super().__init__(type_, make)\n        self.battery = battery_kwh\n\n# Demo\nec = ElectricCar('Car', 'Tesla', 75)\nprint(ec.type, ec.make, ec.battery)\n"
      ]
    },
    {
      "cell_type": "markdown",
      "metadata": {},
      "source": [
        "### 4. Bird polymorphism fly()\n"
      ]
    },
    {
      "cell_type": "code",
      "metadata": {},
      "execution_count": null,
      "outputs": [],
      "source": [
        "class Bird:\n    def fly(self):\n        print(\"Some birds can fly\")\n\nclass Sparrow(Bird):\n    def fly(self):\n        print(\"Sparrow flies high\")\n\nclass Penguin(Bird):\n    def fly(self):\n        print(\"Penguins cannot fly (they swim)\")\n\n# Demo\nfor b in [Sparrow(), Penguin()]:\n    b.fly()\n"
      ]
    },
    {
      "cell_type": "markdown",
      "metadata": {},
      "source": [
        "### 5. Encapsulation: BankAccount\n"
      ]
    },
    {
      "cell_type": "code",
      "metadata": {},
      "execution_count": null,
      "outputs": [],
      "source": [
        "class BankAccount:\n    def __init__(self, opening_balance=0):\n        self.__balance = opening_balance  # private attribute\n\n    def deposit(self, amount):\n        if amount > 0:\n            self.__balance += amount\n            return True\n        return False\n\n    def withdraw(self, amount):\n        if 0 < amount <= self.__balance:\n            self.__balance -= amount\n            return True\n        return False\n\n    def get_balance(self):\n        return self.__balance\n\n# Demo\nacct = BankAccount(1000)\nacct.deposit(500)\nacct.withdraw(200)\nprint(acct.get_balance())\n"
      ]
    },
    {
      "cell_type": "markdown",
      "metadata": {},
      "source": [
        "### 6. Instrument play()\n"
      ]
    },
    {
      "cell_type": "code",
      "metadata": {},
      "execution_count": null,
      "outputs": [],
      "source": [
        "class Instrument:\n    def play(self):\n        raise NotImplementedError\n\nclass Guitar(Instrument):\n    def play(self):\n        print(\"Strumming the guitar\")\n\nclass Piano(Instrument):\n    def play(self):\n        print(\"Playing the piano\")\n\n# Demo\nfor inst in [Guitar(), Piano()]:\n    inst.play()\n"
      ]
    },
    {
      "cell_type": "markdown",
      "metadata": {},
      "source": [
        "### 7. MathOperations add_numbers (classmethod) and subtract_numbers (staticmethod)\n"
      ]
    },
    {
      "cell_type": "code",
      "metadata": {},
      "execution_count": null,
      "outputs": [],
      "source": [
        "class MathOperations:\n    @classmethod\n    def add_numbers(cls, a, b):\n        return a + b\n\n    @staticmethod\n    def subtract_numbers(a, b):\n        return a - b\n\n# Demo\nprint(MathOperations.add_numbers(5,3))\nprint(MathOperations.subtract_numbers(10,4))\n"
      ]
    },
    {
      "cell_type": "markdown",
      "metadata": {},
      "source": [
        "### 8. Person count instances\n"
      ]
    },
    {
      "cell_type": "code",
      "metadata": {},
      "execution_count": null,
      "outputs": [],
      "source": [
        "class Person:\n    count = 0\n    def __init__(self, name):\n        self.name = name\n        Person.count += 1\n\n    @classmethod\n    def total_persons(cls):\n        return cls.count\n\n# Demo\np1 = Person('A'); p2 = Person('B')\nprint(Person.total_persons())\n"
      ]
    },
    {
      "cell_type": "markdown",
      "metadata": {},
      "source": [
        "### 9. Fraction with __str__\n"
      ]
    },
    {
      "cell_type": "code",
      "metadata": {},
      "execution_count": null,
      "outputs": [],
      "source": [
        "class Fraction:\n    def __init__(self, numerator, denominator):\n        self.n = numerator\n        self.d = denominator\n\n    def __str__(self):\n        return f\"{self.n}/{self.d}\"\n\n# Demo\nf = Fraction(3,4)\nprint(str(f))\n"
      ]
    },
    {
      "cell_type": "markdown",
      "metadata": {},
      "source": [
        "### 10. Vector operator overloading (__add__)\n"
      ]
    },
    {
      "cell_type": "code",
      "metadata": {},
      "execution_count": null,
      "outputs": [],
      "source": [
        "class Vector:\n    def __init__(self, components):\n        self.components = list(components)\n\n    def __add__(self, other):\n        if len(self.components) != len(other.components):\n            raise ValueError('Vectors must be same length')\n        return Vector([a+b for a,b in zip(self.components, other.components)])\n\n    def __repr__(self):\n        return f\"Vector({self.components})\"\n\n# Demo\nv1 = Vector([1,2,3])\nv2 = Vector([4,5,6])\nprint(v1 + v2)\n"
      ]
    },
    {
      "cell_type": "markdown",
      "metadata": {},
      "source": [
        "### 11. Person greet()\n"
      ]
    },
    {
      "cell_type": "code",
      "metadata": {},
      "execution_count": null,
      "outputs": [],
      "source": [
        "class PersonSimple:\n    def __init__(self, name, age):\n        self.name = name; self.age = age\n\n    def greet(self):\n        print(f\"Hello, my name is {self.name} and I am {self.age} years old.\")\n\n# Demo\nps = PersonSimple('Ashok', 32)\nps.greet()\n"
      ]
    },
    {
      "cell_type": "markdown",
      "metadata": {},
      "source": [
        "### 12. Student average_grade()\n"
      ]
    },
    {
      "cell_type": "code",
      "metadata": {},
      "execution_count": null,
      "outputs": [],
      "source": [
        "class Student:\n    def __init__(self, name, grades):\n        self.name = name; self.grades = list(grades)\n\n    def average_grade(self):\n        return sum(self.grades)/len(self.grades) if self.grades else 0.0\n\n# Demo\ns = Student('Ravi', [80,90,85])\nprint(s.average_grade())\n"
      ]
    },
    {
      "cell_type": "markdown",
      "metadata": {},
      "source": [
        "### 13. Rectangle set_dimensions & area\n"
      ]
    },
    {
      "cell_type": "code",
      "metadata": {},
      "execution_count": null,
      "outputs": [],
      "source": [
        "class Rectangle:\n    def __init__(self):\n        self.w = 0; self.h = 0\n\n    def set_dimensions(self, w, h):\n        self.w = w; self.h = h\n\n    def area(self):\n        return self.w * self.h\n\n# Demo\nrect = Rectangle()\nrect.set_dimensions(5,4)\nprint(rect.area())\n"
      ]
    },
    {
      "cell_type": "markdown",
      "metadata": {},
      "source": [
        "### 14. Employee & Manager salary\n"
      ]
    },
    {
      "cell_type": "code",
      "metadata": {},
      "execution_count": null,
      "outputs": [],
      "source": [
        "class Employee:\n    def __init__(self, name, hours, rate):\n        self.name = name\n        self.hours = hours\n        self.rate = rate\n\n    def calculate_salary(self):\n        return self.hours * self.rate\n\nclass Manager(Employee):\n    def __init__(self, name, hours, rate, bonus):\n        super().__init__(name, hours, rate)\n        self.bonus = bonus\n\n    def calculate_salary(self):\n        return super().calculate_salary() + self.bonus\n\n# Demo\nm = Manager('Alice', 160, 50, 2000)\nprint(m.calculate_salary())\n"
      ]
    },
    {
      "cell_type": "markdown",
      "metadata": {},
      "source": [
        "### 15. Product total_price()\n"
      ]
    },
    {
      "cell_type": "code",
      "metadata": {},
      "execution_count": null,
      "outputs": [],
      "source": [
        "class Product:\n    def __init__(self, name, price, quantity):\n        self.name = name; self.price = price; self.quantity = quantity\n\n    def total_price(self):\n        return self.price * self.quantity\n\n# Demo\np = Product('Pen', 15.5, 10)\nprint(p.total_price())\n"
      ]
    },
    {
      "cell_type": "markdown",
      "metadata": {},
      "source": [
        "### 16. Animal abstract sound()\n"
      ]
    },
    {
      "cell_type": "code",
      "metadata": {},
      "execution_count": null,
      "outputs": [],
      "source": [
        "from abc import ABC, abstractmethod\nclass AnimalSound(ABC):\n    @abstractmethod\n    def sound(self):\n        pass\n\nclass Cow(AnimalSound):\n    def sound(self):\n        print('Moo')\n\nclass Sheep(AnimalSound):\n    def sound(self):\n        print('Baa')\n\n# Demo\nfor a in [Cow(), Sheep()]:\n    a.sound()\n"
      ]
    },
    {
      "cell_type": "markdown",
      "metadata": {},
      "source": [
        "### 17. Book get_book_info()\n"
      ]
    },
    {
      "cell_type": "code",
      "metadata": {},
      "execution_count": null,
      "outputs": [],
      "source": [
        "class Book:\n    def __init__(self, title, author, year_published):\n        self.title = title; self.author = author; self.year = year_published\n\n    def get_book_info(self):\n        return f\"{self.title} by {self.author} ({self.year})\"\n\n# Demo\nb = Book('1984', 'George Orwell', 1949)\nprint(b.get_book_info())\n"
      ]
    },
    {
      "cell_type": "markdown",
      "metadata": {},
      "source": [
        "### 18. House & Mansion\n"
      ]
    },
    {
      "cell_type": "code",
      "metadata": {},
      "execution_count": null,
      "outputs": [],
      "source": [
        "class House:\n    def __init__(self, address, price):\n        self.address = address; self.price = price\n\nclass Mansion(House):\n    def __init__(self, address, price, number_of_rooms):\n        super().__init__(address, price)\n        self.number_of_rooms = number_of_rooms\n\n# Demo\nmn = Mansion('Hill St', 5000000, 12)\nprint(mn.address, mn.price, mn.number_of_rooms)\n"
      ]
    }
  ],
  "metadata": {
    "kernelspec": {
      "display_name": "Python 3",
      "language": "python",
      "name": "python3"
    },
    "language_info": {
      "name": "python",
      "version": "3.11"
    }
  },
  "nbformat": 4,
  "nbformat_minor": 5
}